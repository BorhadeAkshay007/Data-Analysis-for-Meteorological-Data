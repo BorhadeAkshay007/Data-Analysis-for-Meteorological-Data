{
 "cells": [
  {
   "cell_type": "markdown",
   "metadata": {},
   "source": [
    "## Performing Data Analysis for Metrological Data of Northern Europe"
   ]
  },
  {
   "cell_type": "code",
   "execution_count": 1,
   "metadata": {},
   "outputs": [
    {
     "data": {
      "text/html": [
       "        <script type=\"text/javascript\">\n",
       "        window.PlotlyConfig = {MathJaxConfig: 'local'};\n",
       "        if (window.MathJax) {MathJax.Hub.Config({SVG: {font: \"STIX-Web\"}});}\n",
       "        if (typeof require !== 'undefined') {\n",
       "        require.undef(\"plotly\");\n",
       "        requirejs.config({\n",
       "            paths: {\n",
       "                'plotly': ['https://cdn.plot.ly/plotly-latest.min']\n",
       "            }\n",
       "        });\n",
       "        require(['plotly'], function(Plotly) {\n",
       "            window._Plotly = Plotly;\n",
       "        });\n",
       "        }\n",
       "        </script>\n",
       "        "
      ]
     },
     "metadata": {},
     "output_type": "display_data"
    }
   ],
   "source": [
    "## Let's import some libraries to get started!\n",
    "import numpy as np\n",
    "import pandas as pd\n",
    "import matplotlib.pyplot as plt\n",
    "%matplotlib inline\n",
    "import seaborn as sns\n",
    "import warnings \n",
    "warnings.filterwarnings('ignore')\n",
    "\n",
    "## Optional Plotly Method Imports..\n",
    "import plotly\n",
    "import cufflinks as cf\n",
    "cf.go_offline()"
   ]
  },
  {
   "cell_type": "markdown",
   "metadata": {},
   "source": [
    "## The Data"
   ]
  },
  {
   "cell_type": "code",
   "execution_count": 2,
   "metadata": {},
   "outputs": [],
   "source": [
    "##Let's start by reading in the weatherHistory.csv file into a pandas dataframe.\n",
    "\n",
    "df = pd.read_csv('weatherHistory.csv')"
   ]
  },
  {
   "cell_type": "code",
   "execution_count": 3,
   "metadata": {
    "scrolled": true
   },
   "outputs": [
    {
     "data": {
      "text/html": [
       "<div>\n",
       "<style scoped>\n",
       "    .dataframe tbody tr th:only-of-type {\n",
       "        vertical-align: middle;\n",
       "    }\n",
       "\n",
       "    .dataframe tbody tr th {\n",
       "        vertical-align: top;\n",
       "    }\n",
       "\n",
       "    .dataframe thead th {\n",
       "        text-align: right;\n",
       "    }\n",
       "</style>\n",
       "<table border=\"1\" class=\"dataframe\">\n",
       "  <thead>\n",
       "    <tr style=\"text-align: right;\">\n",
       "      <th></th>\n",
       "      <th>Formatted Date</th>\n",
       "      <th>Summary</th>\n",
       "      <th>Precip Type</th>\n",
       "      <th>Temperature (C)</th>\n",
       "      <th>Apparent Temperature (C)</th>\n",
       "      <th>Humidity</th>\n",
       "      <th>Wind Speed (km/h)</th>\n",
       "      <th>Wind Bearing (degrees)</th>\n",
       "      <th>Visibility (km)</th>\n",
       "      <th>Pressure (millibars)</th>\n",
       "      <th>Daily Summary</th>\n",
       "    </tr>\n",
       "  </thead>\n",
       "  <tbody>\n",
       "    <tr>\n",
       "      <th>0</th>\n",
       "      <td>2006-04-01 00:00:00.000 +0200</td>\n",
       "      <td>Partly Cloudy</td>\n",
       "      <td>rain</td>\n",
       "      <td>9.472222</td>\n",
       "      <td>7.388889</td>\n",
       "      <td>0.89</td>\n",
       "      <td>14.1197</td>\n",
       "      <td>251</td>\n",
       "      <td>15.8263</td>\n",
       "      <td>1015.13</td>\n",
       "      <td>Partly cloudy throughout the day.</td>\n",
       "    </tr>\n",
       "    <tr>\n",
       "      <th>1</th>\n",
       "      <td>2006-04-01 01:00:00.000 +0200</td>\n",
       "      <td>Partly Cloudy</td>\n",
       "      <td>rain</td>\n",
       "      <td>9.355556</td>\n",
       "      <td>7.227778</td>\n",
       "      <td>0.86</td>\n",
       "      <td>14.2646</td>\n",
       "      <td>259</td>\n",
       "      <td>15.8263</td>\n",
       "      <td>1015.63</td>\n",
       "      <td>Partly cloudy throughout the day.</td>\n",
       "    </tr>\n",
       "    <tr>\n",
       "      <th>2</th>\n",
       "      <td>2006-04-01 02:00:00.000 +0200</td>\n",
       "      <td>Mostly Cloudy</td>\n",
       "      <td>rain</td>\n",
       "      <td>9.377778</td>\n",
       "      <td>9.377778</td>\n",
       "      <td>0.89</td>\n",
       "      <td>3.9284</td>\n",
       "      <td>204</td>\n",
       "      <td>14.9569</td>\n",
       "      <td>1015.94</td>\n",
       "      <td>Partly cloudy throughout the day.</td>\n",
       "    </tr>\n",
       "    <tr>\n",
       "      <th>3</th>\n",
       "      <td>2006-04-01 03:00:00.000 +0200</td>\n",
       "      <td>Partly Cloudy</td>\n",
       "      <td>rain</td>\n",
       "      <td>8.288889</td>\n",
       "      <td>5.944444</td>\n",
       "      <td>0.83</td>\n",
       "      <td>14.1036</td>\n",
       "      <td>269</td>\n",
       "      <td>15.8263</td>\n",
       "      <td>1016.41</td>\n",
       "      <td>Partly cloudy throughout the day.</td>\n",
       "    </tr>\n",
       "    <tr>\n",
       "      <th>4</th>\n",
       "      <td>2006-04-01 04:00:00.000 +0200</td>\n",
       "      <td>Mostly Cloudy</td>\n",
       "      <td>rain</td>\n",
       "      <td>8.755556</td>\n",
       "      <td>6.977778</td>\n",
       "      <td>0.83</td>\n",
       "      <td>11.0446</td>\n",
       "      <td>259</td>\n",
       "      <td>15.8263</td>\n",
       "      <td>1016.51</td>\n",
       "      <td>Partly cloudy throughout the day.</td>\n",
       "    </tr>\n",
       "  </tbody>\n",
       "</table>\n",
       "</div>"
      ],
      "text/plain": [
       "                  Formatted Date        Summary Precip Type  Temperature (C)  \\\n",
       "0  2006-04-01 00:00:00.000 +0200  Partly Cloudy        rain         9.472222   \n",
       "1  2006-04-01 01:00:00.000 +0200  Partly Cloudy        rain         9.355556   \n",
       "2  2006-04-01 02:00:00.000 +0200  Mostly Cloudy        rain         9.377778   \n",
       "3  2006-04-01 03:00:00.000 +0200  Partly Cloudy        rain         8.288889   \n",
       "4  2006-04-01 04:00:00.000 +0200  Mostly Cloudy        rain         8.755556   \n",
       "\n",
       "   Apparent Temperature (C)  Humidity  Wind Speed (km/h)  \\\n",
       "0                  7.388889      0.89            14.1197   \n",
       "1                  7.227778      0.86            14.2646   \n",
       "2                  9.377778      0.89             3.9284   \n",
       "3                  5.944444      0.83            14.1036   \n",
       "4                  6.977778      0.83            11.0446   \n",
       "\n",
       "   Wind Bearing (degrees)  Visibility (km)  Pressure (millibars)  \\\n",
       "0                     251          15.8263               1015.13   \n",
       "1                     259          15.8263               1015.63   \n",
       "2                     204          14.9569               1015.94   \n",
       "3                     269          15.8263               1016.41   \n",
       "4                     259          15.8263               1016.51   \n",
       "\n",
       "                       Daily Summary  \n",
       "0  Partly cloudy throughout the day.  \n",
       "1  Partly cloudy throughout the day.  \n",
       "2  Partly cloudy throughout the day.  \n",
       "3  Partly cloudy throughout the day.  \n",
       "4  Partly cloudy throughout the day.  "
      ]
     },
     "execution_count": 3,
     "metadata": {},
     "output_type": "execute_result"
    }
   ],
   "source": [
    "df.head()"
   ]
  },
  {
   "cell_type": "code",
   "execution_count": 4,
   "metadata": {},
   "outputs": [
    {
     "data": {
      "text/plain": [
       "(96453, 11)"
      ]
     },
     "execution_count": 4,
     "metadata": {},
     "output_type": "execute_result"
    }
   ],
   "source": [
    "df.shape"
   ]
  },
  {
   "cell_type": "code",
   "execution_count": 5,
   "metadata": {},
   "outputs": [
    {
     "data": {
      "text/plain": [
       "Formatted Date               object\n",
       "Summary                      object\n",
       "Precip Type                  object\n",
       "Temperature (C)             float64\n",
       "Apparent Temperature (C)    float64\n",
       "Humidity                    float64\n",
       "Wind Speed (km/h)           float64\n",
       "Wind Bearing (degrees)        int64\n",
       "Visibility (km)             float64\n",
       "Pressure (millibars)        float64\n",
       "Daily Summary                object\n",
       "dtype: object"
      ]
     },
     "execution_count": 5,
     "metadata": {},
     "output_type": "execute_result"
    }
   ],
   "source": [
    "df.dtypes"
   ]
  },
  {
   "cell_type": "code",
   "execution_count": 6,
   "metadata": {},
   "outputs": [
    {
     "data": {
      "text/html": [
       "<div>\n",
       "<style scoped>\n",
       "    .dataframe tbody tr th:only-of-type {\n",
       "        vertical-align: middle;\n",
       "    }\n",
       "\n",
       "    .dataframe tbody tr th {\n",
       "        vertical-align: top;\n",
       "    }\n",
       "\n",
       "    .dataframe thead th {\n",
       "        text-align: right;\n",
       "    }\n",
       "</style>\n",
       "<table border=\"1\" class=\"dataframe\">\n",
       "  <thead>\n",
       "    <tr style=\"text-align: right;\">\n",
       "      <th></th>\n",
       "      <th>Temperature (C)</th>\n",
       "      <th>Apparent Temperature (C)</th>\n",
       "      <th>Humidity</th>\n",
       "      <th>Wind Speed (km/h)</th>\n",
       "      <th>Wind Bearing (degrees)</th>\n",
       "      <th>Visibility (km)</th>\n",
       "      <th>Pressure (millibars)</th>\n",
       "    </tr>\n",
       "  </thead>\n",
       "  <tbody>\n",
       "    <tr>\n",
       "      <th>count</th>\n",
       "      <td>96453.000000</td>\n",
       "      <td>96453.000000</td>\n",
       "      <td>96453.000000</td>\n",
       "      <td>96453.000000</td>\n",
       "      <td>96453.000000</td>\n",
       "      <td>96453.000000</td>\n",
       "      <td>96453.000000</td>\n",
       "    </tr>\n",
       "    <tr>\n",
       "      <th>mean</th>\n",
       "      <td>11.932678</td>\n",
       "      <td>10.855029</td>\n",
       "      <td>0.734899</td>\n",
       "      <td>10.810640</td>\n",
       "      <td>187.509232</td>\n",
       "      <td>10.347325</td>\n",
       "      <td>1003.235956</td>\n",
       "    </tr>\n",
       "    <tr>\n",
       "      <th>std</th>\n",
       "      <td>9.551546</td>\n",
       "      <td>10.696847</td>\n",
       "      <td>0.195473</td>\n",
       "      <td>6.913571</td>\n",
       "      <td>107.383428</td>\n",
       "      <td>4.192123</td>\n",
       "      <td>116.969906</td>\n",
       "    </tr>\n",
       "    <tr>\n",
       "      <th>min</th>\n",
       "      <td>-21.822222</td>\n",
       "      <td>-27.716667</td>\n",
       "      <td>0.000000</td>\n",
       "      <td>0.000000</td>\n",
       "      <td>0.000000</td>\n",
       "      <td>0.000000</td>\n",
       "      <td>0.000000</td>\n",
       "    </tr>\n",
       "    <tr>\n",
       "      <th>25%</th>\n",
       "      <td>4.688889</td>\n",
       "      <td>2.311111</td>\n",
       "      <td>0.600000</td>\n",
       "      <td>5.828200</td>\n",
       "      <td>116.000000</td>\n",
       "      <td>8.339800</td>\n",
       "      <td>1011.900000</td>\n",
       "    </tr>\n",
       "    <tr>\n",
       "      <th>50%</th>\n",
       "      <td>12.000000</td>\n",
       "      <td>12.000000</td>\n",
       "      <td>0.780000</td>\n",
       "      <td>9.965900</td>\n",
       "      <td>180.000000</td>\n",
       "      <td>10.046400</td>\n",
       "      <td>1016.450000</td>\n",
       "    </tr>\n",
       "    <tr>\n",
       "      <th>75%</th>\n",
       "      <td>18.838889</td>\n",
       "      <td>18.838889</td>\n",
       "      <td>0.890000</td>\n",
       "      <td>14.135800</td>\n",
       "      <td>290.000000</td>\n",
       "      <td>14.812000</td>\n",
       "      <td>1021.090000</td>\n",
       "    </tr>\n",
       "    <tr>\n",
       "      <th>max</th>\n",
       "      <td>39.905556</td>\n",
       "      <td>39.344444</td>\n",
       "      <td>1.000000</td>\n",
       "      <td>63.852600</td>\n",
       "      <td>359.000000</td>\n",
       "      <td>16.100000</td>\n",
       "      <td>1046.380000</td>\n",
       "    </tr>\n",
       "  </tbody>\n",
       "</table>\n",
       "</div>"
      ],
      "text/plain": [
       "       Temperature (C)  Apparent Temperature (C)      Humidity  \\\n",
       "count     96453.000000              96453.000000  96453.000000   \n",
       "mean         11.932678                 10.855029      0.734899   \n",
       "std           9.551546                 10.696847      0.195473   \n",
       "min         -21.822222                -27.716667      0.000000   \n",
       "25%           4.688889                  2.311111      0.600000   \n",
       "50%          12.000000                 12.000000      0.780000   \n",
       "75%          18.838889                 18.838889      0.890000   \n",
       "max          39.905556                 39.344444      1.000000   \n",
       "\n",
       "       Wind Speed (km/h)  Wind Bearing (degrees)  Visibility (km)  \\\n",
       "count       96453.000000            96453.000000     96453.000000   \n",
       "mean           10.810640              187.509232        10.347325   \n",
       "std             6.913571              107.383428         4.192123   \n",
       "min             0.000000                0.000000         0.000000   \n",
       "25%             5.828200              116.000000         8.339800   \n",
       "50%             9.965900              180.000000        10.046400   \n",
       "75%            14.135800              290.000000        14.812000   \n",
       "max            63.852600              359.000000        16.100000   \n",
       "\n",
       "       Pressure (millibars)  \n",
       "count          96453.000000  \n",
       "mean            1003.235956  \n",
       "std              116.969906  \n",
       "min                0.000000  \n",
       "25%             1011.900000  \n",
       "50%             1016.450000  \n",
       "75%             1021.090000  \n",
       "max             1046.380000  "
      ]
     },
     "execution_count": 6,
     "metadata": {},
     "output_type": "execute_result"
    }
   ],
   "source": [
    "df.describe()"
   ]
  },
  {
   "cell_type": "markdown",
   "metadata": {},
   "source": [
    "### Let's change Data type of column df['Formatted Date'] (object) ==> (datetime)"
   ]
  },
  {
   "cell_type": "code",
   "execution_count": 7,
   "metadata": {
    "scrolled": true
   },
   "outputs": [
    {
     "data": {
      "text/plain": [
       "0   2006-03-31 22:00:00+00:00\n",
       "1   2006-03-31 23:00:00+00:00\n",
       "2   2006-04-01 00:00:00+00:00\n",
       "3   2006-04-01 01:00:00+00:00\n",
       "4   2006-04-01 02:00:00+00:00\n",
       "5   2006-04-01 03:00:00+00:00\n",
       "6   2006-04-01 04:00:00+00:00\n",
       "7   2006-04-01 05:00:00+00:00\n",
       "8   2006-04-01 06:00:00+00:00\n",
       "9   2006-04-01 07:00:00+00:00\n",
       "Name: Formatted Date, dtype: datetime64[ns, UTC]"
      ]
     },
     "execution_count": 7,
     "metadata": {},
     "output_type": "execute_result"
    }
   ],
   "source": [
    "df['Formatted Date'] = pd.to_datetime(df['Formatted Date'], utc = True)\n",
    "\n",
    "df['Formatted Date'].head(10)"
   ]
  },
  {
   "cell_type": "markdown",
   "metadata": {},
   "source": [
    "# Exploratory Data Analysis\n",
    "\n",
    "Let's begin some exploratory data analysis! We'll start by checking out missing data!\n",
    "\n",
    "## Missing Data\n",
    "\n",
    "We can use seaborn to create a simple heatmap to see where we are missing data!"
   ]
  },
  {
   "cell_type": "code",
   "execution_count": 8,
   "metadata": {},
   "outputs": [
    {
     "data": {
      "text/plain": [
       "<matplotlib.axes._subplots.AxesSubplot at 0x2a9c9d6ba88>"
      ]
     },
     "execution_count": 8,
     "metadata": {},
     "output_type": "execute_result"
    },
    {
     "data": {
      "image/png": "[encoded data removed]",
      "text/plain": [
       "<Figure size 576x360 with 1 Axes>"
      ]
     },
     "metadata": {
      "needs_background": "light"
     },
     "output_type": "display_data"
    }
   ],
   "source": [
    "plt.figure(figsize=(8,5))\n",
    "sns.heatmap(df.isnull(),yticklabels=False,cbar=False,cmap='viridis')"
   ]
  },
  {
   "cell_type": "markdown",
   "metadata": {},
   "source": [
    "### Since we only need 3 columns for our task which is 'Formatted Date', 'Apperent Temperature(c)' & 'Humidity'. Let's find Avg Apparent temperature & Avg humidity of specific month from 2006 - 2016."
   ]
  },
  {
   "cell_type": "code",
   "execution_count": 9,
   "metadata": {},
   "outputs": [
    {
     "data": {
      "text/html": [
       "<div>\n",
       "<style scoped>\n",
       "    .dataframe tbody tr th:only-of-type {\n",
       "        vertical-align: middle;\n",
       "    }\n",
       "\n",
       "    .dataframe tbody tr th {\n",
       "        vertical-align: top;\n",
       "    }\n",
       "\n",
       "    .dataframe thead th {\n",
       "        text-align: right;\n",
       "    }\n",
       "</style>\n",
       "<table border=\"1\" class=\"dataframe\">\n",
       "  <thead>\n",
       "    <tr style=\"text-align: right;\">\n",
       "      <th></th>\n",
       "      <th>Summary</th>\n",
       "      <th>Precip Type</th>\n",
       "      <th>Temperature (C)</th>\n",
       "      <th>Apparent Temperature (C)</th>\n",
       "      <th>Humidity</th>\n",
       "      <th>Wind Speed (km/h)</th>\n",
       "      <th>Wind Bearing (degrees)</th>\n",
       "      <th>Visibility (km)</th>\n",
       "      <th>Pressure (millibars)</th>\n",
       "      <th>Daily Summary</th>\n",
       "    </tr>\n",
       "    <tr>\n",
       "      <th>Formatted Date</th>\n",
       "      <th></th>\n",
       "      <th></th>\n",
       "      <th></th>\n",
       "      <th></th>\n",
       "      <th></th>\n",
       "      <th></th>\n",
       "      <th></th>\n",
       "      <th></th>\n",
       "      <th></th>\n",
       "      <th></th>\n",
       "    </tr>\n",
       "  </thead>\n",
       "  <tbody>\n",
       "    <tr>\n",
       "      <th>2006-03-31 22:00:00+00:00</th>\n",
       "      <td>Partly Cloudy</td>\n",
       "      <td>rain</td>\n",
       "      <td>9.472222</td>\n",
       "      <td>7.388889</td>\n",
       "      <td>0.89</td>\n",
       "      <td>14.1197</td>\n",
       "      <td>251</td>\n",
       "      <td>15.8263</td>\n",
       "      <td>1015.13</td>\n",
       "      <td>Partly cloudy throughout the day.</td>\n",
       "    </tr>\n",
       "    <tr>\n",
       "      <th>2006-03-31 23:00:00+00:00</th>\n",
       "      <td>Partly Cloudy</td>\n",
       "      <td>rain</td>\n",
       "      <td>9.355556</td>\n",
       "      <td>7.227778</td>\n",
       "      <td>0.86</td>\n",
       "      <td>14.2646</td>\n",
       "      <td>259</td>\n",
       "      <td>15.8263</td>\n",
       "      <td>1015.63</td>\n",
       "      <td>Partly cloudy throughout the day.</td>\n",
       "    </tr>\n",
       "    <tr>\n",
       "      <th>2006-04-01 00:00:00+00:00</th>\n",
       "      <td>Mostly Cloudy</td>\n",
       "      <td>rain</td>\n",
       "      <td>9.377778</td>\n",
       "      <td>9.377778</td>\n",
       "      <td>0.89</td>\n",
       "      <td>3.9284</td>\n",
       "      <td>204</td>\n",
       "      <td>14.9569</td>\n",
       "      <td>1015.94</td>\n",
       "      <td>Partly cloudy throughout the day.</td>\n",
       "    </tr>\n",
       "    <tr>\n",
       "      <th>2006-04-01 01:00:00+00:00</th>\n",
       "      <td>Partly Cloudy</td>\n",
       "      <td>rain</td>\n",
       "      <td>8.288889</td>\n",
       "      <td>5.944444</td>\n",
       "      <td>0.83</td>\n",
       "      <td>14.1036</td>\n",
       "      <td>269</td>\n",
       "      <td>15.8263</td>\n",
       "      <td>1016.41</td>\n",
       "      <td>Partly cloudy throughout the day.</td>\n",
       "    </tr>\n",
       "    <tr>\n",
       "      <th>2006-04-01 02:00:00+00:00</th>\n",
       "      <td>Mostly Cloudy</td>\n",
       "      <td>rain</td>\n",
       "      <td>8.755556</td>\n",
       "      <td>6.977778</td>\n",
       "      <td>0.83</td>\n",
       "      <td>11.0446</td>\n",
       "      <td>259</td>\n",
       "      <td>15.8263</td>\n",
       "      <td>1016.51</td>\n",
       "      <td>Partly cloudy throughout the day.</td>\n",
       "    </tr>\n",
       "  </tbody>\n",
       "</table>\n",
       "</div>"
      ],
      "text/plain": [
       "                                 Summary Precip Type  Temperature (C)  \\\n",
       "Formatted Date                                                          \n",
       "2006-03-31 22:00:00+00:00  Partly Cloudy        rain         9.472222   \n",
       "2006-03-31 23:00:00+00:00  Partly Cloudy        rain         9.355556   \n",
       "2006-04-01 00:00:00+00:00  Mostly Cloudy        rain         9.377778   \n",
       "2006-04-01 01:00:00+00:00  Partly Cloudy        rain         8.288889   \n",
       "2006-04-01 02:00:00+00:00  Mostly Cloudy        rain         8.755556   \n",
       "\n",
       "                           Apparent Temperature (C)  Humidity  \\\n",
       "Formatted Date                                                  \n",
       "2006-03-31 22:00:00+00:00                  7.388889      0.89   \n",
       "2006-03-31 23:00:00+00:00                  7.227778      0.86   \n",
       "2006-04-01 00:00:00+00:00                  9.377778      0.89   \n",
       "2006-04-01 01:00:00+00:00                  5.944444      0.83   \n",
       "2006-04-01 02:00:00+00:00                  6.977778      0.83   \n",
       "\n",
       "                           Wind Speed (km/h)  Wind Bearing (degrees)  \\\n",
       "Formatted Date                                                         \n",
       "2006-03-31 22:00:00+00:00            14.1197                     251   \n",
       "2006-03-31 23:00:00+00:00            14.2646                     259   \n",
       "2006-04-01 00:00:00+00:00             3.9284                     204   \n",
       "2006-04-01 01:00:00+00:00            14.1036                     269   \n",
       "2006-04-01 02:00:00+00:00            11.0446                     259   \n",
       "\n",
       "                           Visibility (km)  Pressure (millibars)  \\\n",
       "Formatted Date                                                     \n",
       "2006-03-31 22:00:00+00:00          15.8263               1015.13   \n",
       "2006-03-31 23:00:00+00:00          15.8263               1015.63   \n",
       "2006-04-01 00:00:00+00:00          14.9569               1015.94   \n",
       "2006-04-01 01:00:00+00:00          15.8263               1016.41   \n",
       "2006-04-01 02:00:00+00:00          15.8263               1016.51   \n",
       "\n",
       "                                               Daily Summary  \n",
       "Formatted Date                                                \n",
       "2006-03-31 22:00:00+00:00  Partly cloudy throughout the day.  \n",
       "2006-03-31 23:00:00+00:00  Partly cloudy throughout the day.  \n",
       "2006-04-01 00:00:00+00:00  Partly cloudy throughout the day.  \n",
       "2006-04-01 01:00:00+00:00  Partly cloudy throughout the day.  \n",
       "2006-04-01 02:00:00+00:00  Partly cloudy throughout the day.  "
      ]
     },
     "execution_count": 9,
     "metadata": {},
     "output_type": "execute_result"
    }
   ],
   "source": [
    "## We need every year data of a specific month. Set Formatted Date as our index..\n",
    "df = df.set_index('Formatted Date')\n",
    "df.head()"
   ]
  },
  {
   "cell_type": "code",
   "execution_count": 10,
   "metadata": {},
   "outputs": [
    {
     "data": {
      "text/html": [
       "<div>\n",
       "<style scoped>\n",
       "    .dataframe tbody tr th:only-of-type {\n",
       "        vertical-align: middle;\n",
       "    }\n",
       "\n",
       "    .dataframe tbody tr th {\n",
       "        vertical-align: top;\n",
       "    }\n",
       "\n",
       "    .dataframe thead th {\n",
       "        text-align: right;\n",
       "    }\n",
       "</style>\n",
       "<table border=\"1\" class=\"dataframe\">\n",
       "  <thead>\n",
       "    <tr style=\"text-align: right;\">\n",
       "      <th></th>\n",
       "      <th>Apparent Temperature (C)</th>\n",
       "      <th>Humidity</th>\n",
       "    </tr>\n",
       "    <tr>\n",
       "      <th>Formatted Date</th>\n",
       "      <th></th>\n",
       "      <th></th>\n",
       "    </tr>\n",
       "  </thead>\n",
       "  <tbody>\n",
       "    <tr>\n",
       "      <th>2005-12-01 00:00:00+00:00</th>\n",
       "      <td>-4.050000</td>\n",
       "      <td>0.890000</td>\n",
       "    </tr>\n",
       "    <tr>\n",
       "      <th>2006-01-01 00:00:00+00:00</th>\n",
       "      <td>-4.173708</td>\n",
       "      <td>0.834610</td>\n",
       "    </tr>\n",
       "    <tr>\n",
       "      <th>2006-02-01 00:00:00+00:00</th>\n",
       "      <td>-2.990716</td>\n",
       "      <td>0.843467</td>\n",
       "    </tr>\n",
       "    <tr>\n",
       "      <th>2006-03-01 00:00:00+00:00</th>\n",
       "      <td>1.969780</td>\n",
       "      <td>0.778737</td>\n",
       "    </tr>\n",
       "    <tr>\n",
       "      <th>2006-04-01 00:00:00+00:00</th>\n",
       "      <td>12.098827</td>\n",
       "      <td>0.728625</td>\n",
       "    </tr>\n",
       "  </tbody>\n",
       "</table>\n",
       "</div>"
      ],
      "text/plain": [
       "                           Apparent Temperature (C)  Humidity\n",
       "Formatted Date                                               \n",
       "2005-12-01 00:00:00+00:00                 -4.050000  0.890000\n",
       "2006-01-01 00:00:00+00:00                 -4.173708  0.834610\n",
       "2006-02-01 00:00:00+00:00                 -2.990716  0.843467\n",
       "2006-03-01 00:00:00+00:00                  1.969780  0.778737\n",
       "2006-04-01 00:00:00+00:00                 12.098827  0.728625"
      ]
     },
     "execution_count": 10,
     "metadata": {},
     "output_type": "execute_result"
    }
   ],
   "source": [
    "# \"MS\" ==> Month starting \n",
    "# Here we displaying the avg apparent temperature (C) and humidity using mean()\n",
    "\n",
    "cols = df[['Apparent Temperature (C)','Humidity']] \n",
    "df_avg = cols.resample('MS').mean()\n",
    "\n",
    "df_avg.head()"
   ]
  },
  {
   "cell_type": "markdown",
   "metadata": {},
   "source": [
    "## Ploting the Data w.r.t DateTime"
   ]
  },
  {
   "cell_type": "code",
   "execution_count": 11,
   "metadata": {},
   "outputs": [
    {
     "data": {
      "application/vnd.plotly.v1+json": {
       "config": {
        "linkText": "Export to plot.ly",
        "plotlyServerURL": "https://plot.ly",
        "showLink": true
       },
       "data": [
        {
         "line": {
          "color": "rgba(255, 153, 51, 1.0)",
          "dash": "solid",
          "shape": "linear",
          "width": 1.3
         },
         "mode": "lines",
         "name": "Apparent Temperature (C)",
         "text": "",
         "type": "scatter",
         "x": [
          "2005-12-01 00:00:00+00:00",
          "2006-01-01 00:00:00+00:00",
          "2006-02-01 00:00:00+00:00",
          "2006-03-01 00:00:00+00:00",
          "2006-04-01 00:00:00+00:00",
          "2006-05-01 00:00:00+00:00",
          "2006-06-01 00:00:00+00:00",
          "2006-07-01 00:00:00+00:00",
          "2006-08-01 00:00:00+00:00",
          "2006-09-01 00:00:00+00:00",
          "2006-10-01 00:00:00+00:00",
          "2006-11-01 00:00:00+00:00",
          "2006-12-01 00:00:00+00:00",
          "2007-01-01 00:00:00+00:00",
          "2007-02-01 00:00:00+00:00",
          "2007-03-01 00:00:00+00:00",
          "2007-04-01 00:00:00+00:00",
          "2007-05-01 00:00:00+00:00",
          "2007-06-01 00:00:00+00:00",
          "2007-07-01 00:00:00+00:00",
          "2007-08-01 00:00:00+00:00",
          "2007-09-01 00:00:00+00:00",
          "2007-10-01 00:00:00+00:00",
          "2007-11-01 00:00:00+00:00",
          "2007-12-01 00:00:00+00:00",
          "2008-01-01 00:00:00+00:00",
          "2008-02-01 00:00:00+00:00",
          "2008-03-01 00:00:00+00:00",
          "2008-04-01 00:00:00+00:00",
          "2008-05-01 00:00:00+00:00",
          "2008-06-01 00:00:00+00:00",
          "2008-07-01 00:00:00+00:00",
          "2008-08-01 00:00:00+00:00",
          "2008-09-01 00:00:00+00:00",
          "2008-10-01 00:00:00+00:00",
          "2008-11-01 00:00:00+00:00",
          "2008-12-01 00:00:00+00:00",
          "2009-01-01 00:00:00+00:00",
          "2009-02-01 00:00:00+00:00",
          "2009-03-01 00:00:00+00:00",
          "2009-04-01 00:00:00+00:00",
          "2009-05-01 00:00:00+00:00",
          "2009-06-01 00:00:00+00:00",
          "2009-07-01 00:00:00+00:00",
          "2009-08-01 00:00:00+00:00",
          "2009-09-01 00:00:00+00:00",
          "2009-10-01 00:00:00+00:00",
          "2009-11-01 00:00:00+00:00",
          "2009-12-01 00:00:00+00:00",
          "2010-01-01 00:00:00+00:00",
          "2010-02-01 00:00:00+00:00",
          "2010-03-01 00:00:00+00:00",
          "2010-04-01 00:00:00+00:00",
          "2010-05-01 00:00:00+00:00",
          "2010-06-01 00:00:00+00:00",
          "2010-07-01 00:00:00+00:00",
          "2010-08-01 00:00:00+00:00",
          "2010-09-01 00:00:00+00:00",
          "2010-10-01 00:00:00+00:00",
          "2010-11-01 00:00:00+00:00",
          "2010-12-01 00:00:00+00:00",
          "2011-01-01 00:00:00+00:00",
          "2011-02-01 00:00:00+00:00",
          "2011-03-01 00:00:00+00:00",
          "2011-04-01 00:00:00+00:00",
          "2011-05-01 00:00:00+00:00",
          "2011-06-01 00:00:00+00:00",
          "2011-07-01 00:00:00+00:00",
          "2011-08-01 00:00:00+00:00",
          "2011-09-01 00:00:00+00:00",
          "2011-10-01 00:00:00+00:00",
          "2011-11-01 00:00:00+00:00",
          "2011-12-01 00:00:00+00:00",
          "2012-01-01 00:00:00+00:00",
          "2012-02-01 00:00:00+00:00",
          "2012-03-01 00:00:00+00:00",
          "2012-04-01 00:00:00+00:00",
          "2012-05-01 00:00:00+00:00",
          "2012-06-01 00:00:00+00:00",
          "2012-07-01 00:00:00+00:00",
          "2012-08-01 00:00:00+00:00",
          "2012-09-01 00:00:00+00:00",
          "2012-10-01 00:00:00+00:00",
          "2012-11-01 00:00:00+00:00",
          "2012-12-01 00:00:00+00:00",
          "2013-01-01 00:00:00+00:00",
          "2013-02-01 00:00:00+00:00",
          "2013-03-01 00:00:00+00:00",
          "2013-04-01 00:00:00+00:00",
          "2013-05-01 00:00:00+00:00",
          "2013-06-01 00:00:00+00:00",
          "2013-07-01 00:00:00+00:00",
          "2013-08-01 00:00:00+00:00",
          "2013-09-01 00:00:00+00:00",
          "2013-10-01 00:00:00+00:00",
          "2013-11-01 00:00:00+00:00",
          "2013-12-01 00:00:00+00:00",
          "2014-01-01 00:00:00+00:00",
          "2014-02-01 00:00:00+00:00",
          "2014-03-01 00:00:00+00:00",
          "2014-04-01 00:00:00+00:00",
          "2014-05-01 00:00:00+00:00",
          "2014-06-01 00:00:00+00:00",
          "2014-07-01 00:00:00+00:00",
          "2014-08-01 00:00:00+00:00",
          "2014-09-01 00:00:00+00:00",
          "2014-10-01 00:00:00+00:00",
          "2014-11-01 00:00:00+00:00",
          "2014-12-01 00:00:00+00:00",
          "2015-01-01 00:00:00+00:00",
          "2015-02-01 00:00:00+00:00",
          "2015-03-01 00:00:00+00:00",
          "2015-04-01 00:00:00+00:00",
          "2015-05-01 00:00:00+00:00",
          "2015-06-01 00:00:00+00:00",
          "2015-07-01 00:00:00+00:00",
          "2015-08-01 00:00:00+00:00",
          "2015-09-01 00:00:00+00:00",
          "2015-10-01 00:00:00+00:00",
          "2015-11-01 00:00:00+00:00",
          "2015-12-01 00:00:00+00:00",
          "2016-01-01 00:00:00+00:00",
          "2016-02-01 00:00:00+00:00",
          "2016-03-01 00:00:00+00:00",
          "2016-04-01 00:00:00+00:00",
          "2016-05-01 00:00:00+00:00",
          "2016-06-01 00:00:00+00:00",
          "2016-07-01 00:00:00+00:00",
          "2016-08-01 00:00:00+00:00",
          "2016-09-01 00:00:00+00:00",
          "2016-10-01 00:00:00+00:00",
          "2016-11-01 00:00:00+00:00",
          "2016-12-01 00:00:00+00:00"
         ],
         "y": [
          -4.05,
          -4.17370818397715,
          -2.9907159392306575,
          1.9697804660336018,
          12.098827160601392,
          15.539478793338716,
          19.535964506268062,
          23.595347969005385,
          19.528240740873677,
          18.155570987559734,
          12.398678315513429,
          5.328310185137502,
          0.10731033453763178,
          2.387014635654567,
          2.639847883563989,
          7.1746191756236515,
          11.894421296402783,
          17.453136200748638,
          21.88310185181946,
          23.3480809439247,
          23.07968936688711,
          14.328456790141685,
          9.662612007208315,
          1.2182253086013881,
          -2.964896953424734,
          -2.0699074073830626,
          1.9155970626106322,
          5.004353345288971,
          11.183688271579156,
          17.113582735938174,
          21.51374999990555,
          21.765561529327965,
          22.43885155311156,
          15.48960648147915,
          12.253390083645165,
          5.4150385801819425,
          0.32738948628225917,
          -3.6699372760577864,
          -1.641236772499999,
          4.280585424151879,
          14.26707561731947,
          17.691255973702972,
          19.52679012341943,
          23.091614396801127,
          22.794205495712397,
          19.322353395047234,
          10.433534946188164,
          6.177222222227783,
          -0.16908602144085674,
          -4.329062126686827,
          -1.6620453041755963,
          4.589038231694893,
          11.639405864208328,
          16.40987903212098,
          20.340570987611137,
          23.69944743133066,
          21.906712962977867,
          15.549413580315276,
          8.017144564032249,
          7.440933641893055,
          -3.4859468339059174,
          -2.1868130226612914,
          -2.8494708994583324,
          4.58978494619758,
          12.97899691359584,
          16.644922341885774,
          21.157114197476385,
          21.63498357216667,
          22.874126344032288,
          19.899899691284702,
          9.405167263958338,
          1.368518518531944,
          0.6180928912862907,
          -1.9652105734932808,
          -8.817241379511506,
          6.591502389389782,
          11.782770061750009,
          16.985595878202975,
          22.157129629666652,
          24.52534348866935,
          23.384333930762104,
          19.302947530852816,
          11.435580943814498,
          6.608132715968049,
          -3.672909199561833,
          -1.768578255694893,
          0.41817129626636834,
          1.9574447432042996,
          12.045563271715274,
          17.208975507775524,
          20.345663580101363,
          22.53366935484677,
          23.00524940272849,
          15.317476851763894,
          12.449133811353509,
          6.425663580161098,
          -0.6900537634771517,
          0.23453554361290319,
          2.742997685125002,
          8.408303464817191,
          12.486180555419452,
          15.75221774211019,
          19.87430555561252,
          21.911598440431842,
          20.78186977299328,
          17.258387345837477,
          12.381802568823925,
          6.639097222180549,
          0.5565860215053754,
          -0.7701239545954316,
          0.01700562168601284,
          5.44159199527554,
          10.632800925994447,
          17.067659796676068,
          20.51178240744167,
          23.80348715663978,
          23.745766128951615,
          18.308472222362493,
          10.17040770620296,
          5.553040123498614,
          0.828643966538981,
          -3.0145758662284945,
          4.150782247757183,
          5.901403823206992,
          12.731427469113884,
          16.19921594977285,
          21.46338734561944,
          22.840225507903245,
          21.38309438479299,
          18.3558333336236,
          8.923947132509403,
          3.0486265432111135,
          -2.0172723194468376
         ]
        },
        {
         "line": {
          "color": "rgba(55, 128, 191, 1.0)",
          "dash": "solid",
          "shape": "linear",
          "width": 1.3
         },
         "mode": "lines",
         "name": "Humidity",
         "text": "",
         "type": "scatter",
         "x": [
          "2005-12-01 00:00:00+00:00",
          "2006-01-01 00:00:00+00:00",
          "2006-02-01 00:00:00+00:00",
          "2006-03-01 00:00:00+00:00",
          "2006-04-01 00:00:00+00:00",
          "2006-05-01 00:00:00+00:00",
          "2006-06-01 00:00:00+00:00",
          "2006-07-01 00:00:00+00:00",
          "2006-08-01 00:00:00+00:00",
          "2006-09-01 00:00:00+00:00",
          "2006-10-01 00:00:00+00:00",
          "2006-11-01 00:00:00+00:00",
          "2006-12-01 00:00:00+00:00",
          "2007-01-01 00:00:00+00:00",
          "2007-02-01 00:00:00+00:00",
          "2007-03-01 00:00:00+00:00",
          "2007-04-01 00:00:00+00:00",
          "2007-05-01 00:00:00+00:00",
          "2007-06-01 00:00:00+00:00",
          "2007-07-01 00:00:00+00:00",
          "2007-08-01 00:00:00+00:00",
          "2007-09-01 00:00:00+00:00",
          "2007-10-01 00:00:00+00:00",
          "2007-11-01 00:00:00+00:00",
          "2007-12-01 00:00:00+00:00",
          "2008-01-01 00:00:00+00:00",
          "2008-02-01 00:00:00+00:00",
          "2008-03-01 00:00:00+00:00",
          "2008-04-01 00:00:00+00:00",
          "2008-05-01 00:00:00+00:00",
          "2008-06-01 00:00:00+00:00",
          "2008-07-01 00:00:00+00:00",
          "2008-08-01 00:00:00+00:00",
          "2008-09-01 00:00:00+00:00",
          "2008-10-01 00:00:00+00:00",
          "2008-11-01 00:00:00+00:00",
          "2008-12-01 00:00:00+00:00",
          "2009-01-01 00:00:00+00:00",
          "2009-02-01 00:00:00+00:00",
          "2009-03-01 00:00:00+00:00",
          "2009-04-01 00:00:00+00:00",
          "2009-05-01 00:00:00+00:00",
          "2009-06-01 00:00:00+00:00",
          "2009-07-01 00:00:00+00:00",
          "2009-08-01 00:00:00+00:00",
          "2009-09-01 00:00:00+00:00",
          "2009-10-01 00:00:00+00:00",
          "2009-11-01 00:00:00+00:00",
          "2009-12-01 00:00:00+00:00",
          "2010-01-01 00:00:00+00:00",
          "2010-02-01 00:00:00+00:00",
          "2010-03-01 00:00:00+00:00",
          "2010-04-01 00:00:00+00:00",
          "2010-05-01 00:00:00+00:00",
          "2010-06-01 00:00:00+00:00",
          "2010-07-01 00:00:00+00:00",
          "2010-08-01 00:00:00+00:00",
          "2010-09-01 00:00:00+00:00",
          "2010-10-01 00:00:00+00:00",
          "2010-11-01 00:00:00+00:00",
          "2010-12-01 00:00:00+00:00",
          "2011-01-01 00:00:00+00:00",
          "2011-02-01 00:00:00+00:00",
          "2011-03-01 00:00:00+00:00",
          "2011-04-01 00:00:00+00:00",
          "2011-05-01 00:00:00+00:00",
          "2011-06-01 00:00:00+00:00",
          "2011-07-01 00:00:00+00:00",
          "2011-08-01 00:00:00+00:00",
          "2011-09-01 00:00:00+00:00",
          "2011-10-01 00:00:00+00:00",
          "2011-11-01 00:00:00+00:00",
          "2011-12-01 00:00:00+00:00",
          "2012-01-01 00:00:00+00:00",
          "2012-02-01 00:00:00+00:00",
          "2012-03-01 00:00:00+00:00",
          "2012-04-01 00:00:00+00:00",
          "2012-05-01 00:00:00+00:00",
          "2012-06-01 00:00:00+00:00",
          "2012-07-01 00:00:00+00:00",
          "2012-08-01 00:00:00+00:00",
          "2012-09-01 00:00:00+00:00",
          "2012-10-01 00:00:00+00:00",
          "2012-11-01 00:00:00+00:00",
          "2012-12-01 00:00:00+00:00",
          "2013-01-01 00:00:00+00:00",
          "2013-02-01 00:00:00+00:00",
          "2013-03-01 00:00:00+00:00",
          "2013-04-01 00:00:00+00:00",
          "2013-05-01 00:00:00+00:00",
          "2013-06-01 00:00:00+00:00",
          "2013-07-01 00:00:00+00:00",
          "2013-08-01 00:00:00+00:00",
          "2013-09-01 00:00:00+00:00",
          "2013-10-01 00:00:00+00:00",
          "2013-11-01 00:00:00+00:00",
          "2013-12-01 00:00:00+00:00",
          "2014-01-01 00:00:00+00:00",
          "2014-02-01 00:00:00+00:00",
          "2014-03-01 00:00:00+00:00",
          "2014-04-01 00:00:00+00:00",
          "2014-05-01 00:00:00+00:00",
          "2014-06-01 00:00:00+00:00",
          "2014-07-01 00:00:00+00:00",
          "2014-08-01 00:00:00+00:00",
          "2014-09-01 00:00:00+00:00",
          "2014-10-01 00:00:00+00:00",
          "2014-11-01 00:00:00+00:00",
          "2014-12-01 00:00:00+00:00",
          "2015-01-01 00:00:00+00:00",
          "2015-02-01 00:00:00+00:00",
          "2015-03-01 00:00:00+00:00",
          "2015-04-01 00:00:00+00:00",
          "2015-05-01 00:00:00+00:00",
          "2015-06-01 00:00:00+00:00",
          "2015-07-01 00:00:00+00:00",
          "2015-08-01 00:00:00+00:00",
          "2015-09-01 00:00:00+00:00",
          "2015-10-01 00:00:00+00:00",
          "2015-11-01 00:00:00+00:00",
          "2015-12-01 00:00:00+00:00",
          "2016-01-01 00:00:00+00:00",
          "2016-02-01 00:00:00+00:00",
          "2016-03-01 00:00:00+00:00",
          "2016-04-01 00:00:00+00:00",
          "2016-05-01 00:00:00+00:00",
          "2016-06-01 00:00:00+00:00",
          "2016-07-01 00:00:00+00:00",
          "2016-08-01 00:00:00+00:00",
          "2016-09-01 00:00:00+00:00",
          "2016-10-01 00:00:00+00:00",
          "2016-11-01 00:00:00+00:00",
          "2016-12-01 00:00:00+00:00"
         ],
         "y": [
          0.89,
          0.8346102150537641,
          0.8434672619047615,
          0.7787365591397847,
          0.7286249999999997,
          0.7218010752688181,
          0.7471250000000006,
          0.6563037634408605,
          0.7607526881720421,
          0.689444444444444,
          0.7336424731182793,
          0.8127222222222216,
          0.9053763440860214,
          0.8134946236559147,
          0.8150148809523807,
          0.7138844086021512,
          0.5363611111111108,
          0.6532526881720432,
          0.6164861111111103,
          0.4912500000000004,
          0.562876344086022,
          0.6827083333333335,
          0.7409543010752693,
          0.8014444444444456,
          0.8562500000000028,
          0.8194758064516136,
          0.6826149425287352,
          0.6684677419354836,
          0.6931944444444447,
          0.6631317204301068,
          0.679861111111111,
          0.616021505376344,
          0.5518951612903223,
          0.6907222222222226,
          0.7539112903225803,
          0.766972222222222,
          0.8282258064516116,
          0.8676209677419353,
          0.8211607142857134,
          0.6966801075268814,
          0.5678472222222216,
          0.5971505376344078,
          0.6759444444444443,
          0.6002150537634405,
          0.5972311827956995,
          0.5967638888888885,
          0.7634677419354835,
          0.8652916666666667,
          0.8446370967741941,
          0.875913978494624,
          0.8516815476190482,
          0.6701612903225801,
          0.7068750000000003,
          0.773091397849462,
          0.7783472222222217,
          0.7553225806451617,
          0.7427864583333329,
          0.8268055555555562,
          0.8155376344086022,
          0.8587222222222209,
          0.9136021505376364,
          0.9220295698924741,
          0.8541369047619047,
          0.7829704301075258,
          0.5916249999999998,
          0.6880376344086007,
          0.6776111111111113,
          0.7075000000000009,
          0.6312634408602149,
          0.6113749999999999,
          0.7017473118279564,
          0.800527777777778,
          0.866223118279567,
          0.7975806451612893,
          0.7628591954022999,
          0.5359408602150529,
          0.6502222222222221,
          0.6728629032258069,
          0.6223055555555541,
          0.580860215053765,
          0.5000806451612896,
          0.6033194444444441,
          0.7943145161290306,
          0.8713888888888859,
          0.8868010752688169,
          0.8831048387096783,
          0.8693452380952399,
          0.8099462365591408,
          0.6776666666666661,
          0.7353091397849463,
          0.7618472222222227,
          0.6365860215053752,
          0.5962634408602155,
          0.6919861111111119,
          0.7487499999999996,
          0.824791666666667,
          0.8239650537634399,
          0.8461693548387079,
          0.812529761904761,
          0.6404032258064514,
          0.6914027777777771,
          0.698602150537634,
          0.6024027777777783,
          0.6993927125506061,
          0.7078091397849468,
          0.7859444444444448,
          0.8261155913978488,
          0.8397361111111081,
          0.8359274193548372,
          0.8315188172042988,
          0.80345238095238,
          0.6694758064516136,
          0.5477638888888885,
          0.7027419354838709,
          0.6552083333333333,
          0.6229838709677421,
          0.6598252688172042,
          0.7128888888888891,
          0.8405241935483865,
          0.8170138888888878,
          0.9253897849462391,
          0.8661559139784946,
          0.8368534482758616,
          0.7646774193548389,
          0.6599722222222224,
          0.702163978494623,
          0.7334583333333333,
          0.6693279569892487,
          0.6740456989247311,
          0.6888333333333336,
          0.7999059139784944,
          0.8484722222222219,
          0.8879811574697188
         ]
        }
       ],
       "layout": {
        "legend": {
         "bgcolor": "#F5F6F9",
         "font": {
          "color": "#4D5663"
         }
        },
        "paper_bgcolor": "#F5F6F9",
        "plot_bgcolor": "#F5F6F9",
        "template": {
         "data": {
          "bar": [
           {
            "error_x": {
             "color": "#2a3f5f"
            },
            "error_y": {
             "color": "#2a3f5f"
            },
            "marker": {
             "line": {
              "color": "#E5ECF6",
              "width": 0.5
             }
            },
            "type": "bar"
           }
          ],
          "barpolar": [
           {
            "marker": {
             "line": {
              "color": "#E5ECF6",
              "width": 0.5
             }
            },
            "type": "barpolar"
           }
          ],
          "carpet": [
           {
            "aaxis": {
             "endlinecolor": "#2a3f5f",
             "gridcolor": "white",
             "linecolor": "white",
             "minorgridcolor": "white",
             "startlinecolor": "#2a3f5f"
            },
            "baxis": {
             "endlinecolor": "#2a3f5f",
             "gridcolor": "white",
             "linecolor": "white",
             "minorgridcolor": "white",
             "startlinecolor": "#2a3f5f"
            },
            "type": "carpet"
           }
          ],
          "choropleth": [
           {
            "colorbar": {
             "outlinewidth": 0,
             "ticks": ""
            },
            "type": "choropleth"
           }
          ],
          "contour": [
           {
            "colorbar": {
             "outlinewidth": 0,
             "ticks": ""
            },
            "colorscale": [
             [
              0,
              "#0d0887"
             ],
             [
              0.1111111111111111,
              "#46039f"
             ],
             [
              0.2222222222222222,
              "#7201a8"
             ],
             [
              0.3333333333333333,
              "#9c179e"
             ],
             [
              0.4444444444444444,
              "#bd3786"
             ],
             [
              0.5555555555555556,
              "#d8576b"
             ],
             [
              0.6666666666666666,
              "#ed7953"
             ],
             [
              0.7777777777777778,
              "#fb9f3a"
             ],
             [
              0.8888888888888888,
              "#fdca26"
             ],
             [
              1,
              "#f0f921"
             ]
            ],
            "type": "contour"
           }
          ],
          "contourcarpet": [
           {
            "colorbar": {
             "outlinewidth": 0,
             "ticks": ""
            },
            "type": "contourcarpet"
           }
          ],
          "heatmap": [
           {
            "colorbar": {
             "outlinewidth": 0,
             "ticks": ""
            },
            "colorscale": [
             [
              0,
              "#0d0887"
             ],
             [
              0.1111111111111111,
              "#46039f"
             ],
             [
              0.2222222222222222,
              "#7201a8"
             ],
             [
              0.3333333333333333,
              "#9c179e"
             ],
             [
              0.4444444444444444,
              "#bd3786"
             ],
             [
              0.5555555555555556,
              "#d8576b"
             ],
             [
              0.6666666666666666,
              "#ed7953"
             ],
             [
              0.7777777777777778,
              "#fb9f3a"
             ],
             [
              0.8888888888888888,
              "#fdca26"
             ],
             [
              1,
              "#f0f921"
             ]
            ],
            "type": "heatmap"
           }
          ],
          "heatmapgl": [
           {
            "colorbar": {
             "outlinewidth": 0,
             "ticks": ""
            },
            "colorscale": [
             [
              0,
              "#0d0887"
             ],
             [
              0.1111111111111111,
              "#46039f"
             ],
             [
              0.2222222222222222,
              "#7201a8"
             ],
             [
              0.3333333333333333,
              "#9c179e"
             ],
             [
              0.4444444444444444,
              "#bd3786"
             ],
             [
              0.5555555555555556,
              "#d8576b"
             ],
             [
              0.6666666666666666,
              "#ed7953"
             ],
             [
              0.7777777777777778,
              "#fb9f3a"
             ],
             [
              0.8888888888888888,
              "#fdca26"
             ],
             [
              1,
              "#f0f921"
             ]
            ],
            "type": "heatmapgl"
           }
          ],
          "histogram": [
           {
            "marker": {
             "colorbar": {
              "outlinewidth": 0,
              "ticks": ""
             }
            },
            "type": "histogram"
           }
          ],
          "histogram2d": [
           {
            "colorbar": {
             "outlinewidth": 0,
             "ticks": ""
            },
            "colorscale": [
             [
              0,
              "#0d0887"
             ],
             [
              0.1111111111111111,
              "#46039f"
             ],
             [
              0.2222222222222222,
              "#7201a8"
             ],
             [
              0.3333333333333333,
              "#9c179e"
             ],
             [
              0.4444444444444444,
              "#bd3786"
             ],
             [
              0.5555555555555556,
              "#d8576b"
             ],
             [
              0.6666666666666666,
              "#ed7953"
             ],
             [
              0.7777777777777778,
              "#fb9f3a"
             ],
             [
              0.8888888888888888,
              "#fdca26"
             ],
             [
              1,
              "#f0f921"
             ]
            ],
            "type": "histogram2d"
           }
          ],
          "histogram2dcontour": [
           {
            "colorbar": {
             "outlinewidth": 0,
             "ticks": ""
            },
            "colorscale": [
             [
              0,
              "#0d0887"
             ],
             [
              0.1111111111111111,
              "#46039f"
             ],
             [
              0.2222222222222222,
              "#7201a8"
             ],
             [
              0.3333333333333333,
              "#9c179e"
             ],
             [
              0.4444444444444444,
              "#bd3786"
             ],
             [
              0.5555555555555556,
              "#d8576b"
             ],
             [
              0.6666666666666666,
              "#ed7953"
             ],
             [
              0.7777777777777778,
              "#fb9f3a"
             ],
             [
              0.8888888888888888,
              "#fdca26"
             ],
             [
              1,
              "#f0f921"
             ]
            ],
            "type": "histogram2dcontour"
           }
          ],
          "mesh3d": [
           {
            "colorbar": {
             "outlinewidth": 0,
             "ticks": ""
            },
            "type": "mesh3d"
           }
          ],
          "parcoords": [
           {
            "line": {
             "colorbar": {
              "outlinewidth": 0,
              "ticks": ""
             }
            },
            "type": "parcoords"
           }
          ],
          "pie": [
           {
            "automargin": true,
            "type": "pie"
           }
          ],
          "scatter": [
           {
            "marker": {
             "colorbar": {
              "outlinewidth": 0,
              "ticks": ""
             }
            },
            "type": "scatter"
           }
          ],
          "scatter3d": [
           {
            "line": {
             "colorbar": {
              "outlinewidth": 0,
              "ticks": ""
             }
            },
            "marker": {
             "colorbar": {
              "outlinewidth": 0,
              "ticks": ""
             }
            },
            "type": "scatter3d"
           }
          ],
          "scattercarpet": [
           {
            "marker": {
             "colorbar": {
              "outlinewidth": 0,
              "ticks": ""
             }
            },
            "type": "scattercarpet"
           }
          ],
          "scattergeo": [
           {
            "marker": {
             "colorbar": {
              "outlinewidth": 0,
              "ticks": ""
             }
            },
            "type": "scattergeo"
           }
          ],
          "scattergl": [
           {
            "marker": {
             "colorbar": {
              "outlinewidth": 0,
              "ticks": ""
             }
            },
            "type": "scattergl"
           }
          ],
          "scattermapbox": [
           {
            "marker": {
             "colorbar": {
              "outlinewidth": 0,
              "ticks": ""
             }
            },
            "type": "scattermapbox"
           }
          ],
          "scatterpolar": [
           {
            "marker": {
             "colorbar": {
              "outlinewidth": 0,
              "ticks": ""
             }
            },
            "type": "scatterpolar"
           }
          ],
          "scatterpolargl": [
           {
            "marker": {
             "colorbar": {
              "outlinewidth": 0,
              "ticks": ""
             }
            },
            "type": "scatterpolargl"
           }
          ],
          "scatterternary": [
           {
            "marker": {
             "colorbar": {
              "outlinewidth": 0,
              "ticks": ""
             }
            },
            "type": "scatterternary"
           }
          ],
          "surface": [
           {
            "colorbar": {
             "outlinewidth": 0,
             "ticks": ""
            },
            "colorscale": [
             [
              0,
              "#0d0887"
             ],
             [
              0.1111111111111111,
              "#46039f"
             ],
             [
              0.2222222222222222,
              "#7201a8"
             ],
             [
              0.3333333333333333,
              "#9c179e"
             ],
             [
              0.4444444444444444,
              "#bd3786"
             ],
             [
              0.5555555555555556,
              "#d8576b"
             ],
             [
              0.6666666666666666,
              "#ed7953"
             ],
             [
              0.7777777777777778,
              "#fb9f3a"
             ],
             [
              0.8888888888888888,
              "#fdca26"
             ],
             [
              1,
              "#f0f921"
             ]
            ],
            "type": "surface"
           }
          ],
          "table": [
           {
            "cells": {
             "fill": {
              "color": "#EBF0F8"
             },
             "line": {
              "color": "white"
             }
            },
            "header": {
             "fill": {
              "color": "#C8D4E3"
             },
             "line": {
              "color": "white"
             }
            },
            "type": "table"
           }
          ]
         },
         "layout": {
          "annotationdefaults": {
           "arrowcolor": "#2a3f5f",
           "arrowhead": 0,
           "arrowwidth": 1
          },
          "coloraxis": {
           "colorbar": {
            "outlinewidth": 0,
            "ticks": ""
           }
          },
          "colorscale": {
           "diverging": [
            [
             0,
             "#8e0152"
            ],
            [
             0.1,
             "#c51b7d"
            ],
            [
             0.2,
             "#de77ae"
            ],
            [
             0.3,
             "#f1b6da"
            ],
            [
             0.4,
             "#fde0ef"
            ],
            [
             0.5,
             "#f7f7f7"
            ],
            [
             0.6,
             "#e6f5d0"
            ],
            [
             0.7,
             "#b8e186"
            ],
            [
             0.8,
             "#7fbc41"
            ],
            [
             0.9,
             "#4d9221"
            ],
            [
             1,
             "#276419"
            ]
           ],
           "sequential": [
            [
             0,
             "#0d0887"
            ],
            [
             0.1111111111111111,
             "#46039f"
            ],
            [
             0.2222222222222222,
             "#7201a8"
            ],
            [
             0.3333333333333333,
             "#9c179e"
            ],
            [
             0.4444444444444444,
             "#bd3786"
            ],
            [
             0.5555555555555556,
             "#d8576b"
            ],
            [
             0.6666666666666666,
             "#ed7953"
            ],
            [
             0.7777777777777778,
             "#fb9f3a"
            ],
            [
             0.8888888888888888,
             "#fdca26"
            ],
            [
             1,
             "#f0f921"
            ]
           ],
           "sequentialminus": [
            [
             0,
             "#0d0887"
            ],
            [
             0.1111111111111111,
             "#46039f"
            ],
            [
             0.2222222222222222,
             "#7201a8"
            ],
            [
             0.3333333333333333,
             "#9c179e"
            ],
            [
             0.4444444444444444,
             "#bd3786"
            ],
            [
             0.5555555555555556,
             "#d8576b"
            ],
            [
             0.6666666666666666,
             "#ed7953"
            ],
            [
             0.7777777777777778,
             "#fb9f3a"
            ],
            [
             0.8888888888888888,
             "#fdca26"
            ],
            [
             1,
             "#f0f921"
            ]
           ]
          },
          "colorway": [
           "#636efa",
           "#EF553B",
           "#00cc96",
           "#ab63fa",
           "#FFA15A",
           "#19d3f3",
           "#FF6692",
           "#B6E880",
           "#FF97FF",
           "#FECB52"
          ],
          "font": {
           "color": "#2a3f5f"
          },
          "geo": {
           "bgcolor": "white",
           "lakecolor": "white",
           "landcolor": "#E5ECF6",
           "showlakes": true,
           "showland": true,
           "subunitcolor": "white"
          },
          "hoverlabel": {
           "align": "left"
          },
          "hovermode": "closest",
          "mapbox": {
           "style": "light"
          },
          "paper_bgcolor": "white",
          "plot_bgcolor": "#E5ECF6",
          "polar": {
           "angularaxis": {
            "gridcolor": "white",
            "linecolor": "white",
            "ticks": ""
           },
           "bgcolor": "#E5ECF6",
           "radialaxis": {
            "gridcolor": "white",
            "linecolor": "white",
            "ticks": ""
           }
          },
          "scene": {
           "xaxis": {
            "backgroundcolor": "#E5ECF6",
            "gridcolor": "white",
            "gridwidth": 2,
            "linecolor": "white",
            "showbackground": true,
            "ticks": "",
            "zerolinecolor": "white"
           },
           "yaxis": {
            "backgroundcolor": "#E5ECF6",
            "gridcolor": "white",
            "gridwidth": 2,
            "linecolor": "white",
            "showbackground": true,
            "ticks": "",
            "zerolinecolor": "white"
           },
           "zaxis": {
            "backgroundcolor": "#E5ECF6",
            "gridcolor": "white",
            "gridwidth": 2,
            "linecolor": "white",
            "showbackground": true,
            "ticks": "",
            "zerolinecolor": "white"
           }
          },
          "shapedefaults": {
           "line": {
            "color": "#2a3f5f"
           }
          },
          "ternary": {
           "aaxis": {
            "gridcolor": "white",
            "linecolor": "white",
            "ticks": ""
           },
           "baxis": {
            "gridcolor": "white",
            "linecolor": "white",
            "ticks": ""
           },
           "bgcolor": "#E5ECF6",
           "caxis": {
            "gridcolor": "white",
            "linecolor": "white",
            "ticks": ""
           }
          },
          "title": {
           "x": 0.05
          },
          "xaxis": {
           "automargin": true,
           "gridcolor": "white",
           "linecolor": "white",
           "ticks": "",
           "title": {
            "standoff": 15
           },
           "zerolinecolor": "white",
           "zerolinewidth": 2
          },
          "yaxis": {
           "automargin": true,
           "gridcolor": "white",
           "linecolor": "white",
           "ticks": "",
           "title": {
            "standoff": 15
           },
           "zerolinecolor": "white",
           "zerolinewidth": 2
          }
         }
        },
        "title": {
         "font": {
          "color": "#4D5663"
         },
         "text": "Changes in Apparent Temperature (C) and Humidity w.r.t DateTime"
        },
        "xaxis": {
         "gridcolor": "#E1E5ED",
         "showgrid": true,
         "tickfont": {
          "color": "#4D5663"
         },
         "title": {
          "font": {
           "color": "#4D5663"
          },
          "text": "Formatted Date"
         },
         "zerolinecolor": "#E1E5ED"
        },
        "yaxis": {
         "gridcolor": "#E1E5ED",
         "showgrid": true,
         "tickfont": {
          "color": "#4D5663"
         },
         "title": {
          "font": {
           "color": "#4D5663"
          },
          "text": ""
         },
         "zerolinecolor": "#E1E5ED"
        }
       }
      },
      "text/html": [
       "<div>\n",
       "        \n",
       "        \n",
       "            <div id=\"9ef5bf31-af19-4f54-82cf-a546630e748f\" class=\"plotly-graph-div\" style=\"height:525px; width:100%;\"></div>\n",
       "            <script type=\"text/javascript\">\n",
       "                require([\"plotly\"], function(Plotly) {\n",
       "                    window.PLOTLYENV=window.PLOTLYENV || {};\n",
       "                    window.PLOTLYENV.BASE_URL='https://plot.ly';\n",
       "                    \n",
       "                if (document.getElementById(\"9ef5bf31-af19-4f54-82cf-a546630e748f\")) {\n",
       "                    Plotly.newPlot(\n",
       "                        '9ef5bf31-af19-4f54-82cf-a546630e748f',\n",
       "                        [{\"line\": {\"color\": \"rgba(255, 153, 51, 1.0)\", \"dash\": \"solid\", \"shape\": \"linear\", \"width\": 1.3}, \"mode\": \"lines\", \"name\": \"Apparent Temperature (C)\", \"text\": \"\", \"type\": \"scatter\", \"x\": [\"2005-12-01 00:00:00+00:00\", \"2006-01-01 00:00:00+00:00\", \"2006-02-01 00:00:00+00:00\", \"2006-03-01 00:00:00+00:00\", \"2006-04-01 00:00:00+00:00\", \"2006-05-01 00:00:00+00:00\", \"2006-06-01 00:00:00+00:00\", \"2006-07-01 00:00:00+00:00\", \"2006-08-01 00:00:00+00:00\", \"2006-09-01 00:00:00+00:00\", \"2006-10-01 00:00:00+00:00\", \"2006-11-01 00:00:00+00:00\", \"2006-12-01 00:00:00+00:00\", \"2007-01-01 00:00:00+00:00\", \"2007-02-01 00:00:00+00:00\", \"2007-03-01 00:00:00+00:00\", \"2007-04-01 00:00:00+00:00\", \"2007-05-01 00:00:00+00:00\", \"2007-06-01 00:00:00+00:00\", \"2007-07-01 00:00:00+00:00\", \"2007-08-01 00:00:00+00:00\", \"2007-09-01 00:00:00+00:00\", \"2007-10-01 00:00:00+00:00\", \"2007-11-01 00:00:00+00:00\", \"2007-12-01 00:00:00+00:00\", \"2008-01-01 00:00:00+00:00\", \"2008-02-01 00:00:00+00:00\", \"2008-03-01 00:00:00+00:00\", \"2008-04-01 00:00:00+00:00\", \"2008-05-01 00:00:00+00:00\", \"2008-06-01 00:00:00+00:00\", \"2008-07-01 00:00:00+00:00\", \"2008-08-01 00:00:00+00:00\", \"2008-09-01 00:00:00+00:00\", \"2008-10-01 00:00:00+00:00\", \"2008-11-01 00:00:00+00:00\", \"2008-12-01 00:00:00+00:00\", \"2009-01-01 00:00:00+00:00\", \"2009-02-01 00:00:00+00:00\", \"2009-03-01 00:00:00+00:00\", \"2009-04-01 00:00:00+00:00\", \"2009-05-01 00:00:00+00:00\", \"2009-06-01 00:00:00+00:00\", \"2009-07-01 00:00:00+00:00\", \"2009-08-01 00:00:00+00:00\", \"2009-09-01 00:00:00+00:00\", \"2009-10-01 00:00:00+00:00\", \"2009-11-01 00:00:00+00:00\", \"2009-12-01 00:00:00+00:00\", \"2010-01-01 00:00:00+00:00\", \"2010-02-01 00:00:00+00:00\", \"2010-03-01 00:00:00+00:00\", \"2010-04-01 00:00:00+00:00\", \"2010-05-01 00:00:00+00:00\", \"2010-06-01 00:00:00+00:00\", \"2010-07-01 00:00:00+00:00\", \"2010-08-01 00:00:00+00:00\", \"2010-09-01 00:00:00+00:00\", \"2010-10-01 00:00:00+00:00\", \"2010-11-01 00:00:00+00:00\", \"2010-12-01 00:00:00+00:00\", \"2011-01-01 00:00:00+00:00\", \"2011-02-01 00:00:00+00:00\", \"2011-03-01 00:00:00+00:00\", \"2011-04-01 00:00:00+00:00\", \"2011-05-01 00:00:00+00:00\", \"2011-06-01 00:00:00+00:00\", \"2011-07-01 00:00:00+00:00\", \"2011-08-01 00:00:00+00:00\", \"2011-09-01 00:00:00+00:00\", \"2011-10-01 00:00:00+00:00\", \"2011-11-01 00:00:00+00:00\", \"2011-12-01 00:00:00+00:00\", \"2012-01-01 00:00:00+00:00\", \"2012-02-01 00:00:00+00:00\", \"2012-03-01 00:00:00+00:00\", \"2012-04-01 00:00:00+00:00\", \"2012-05-01 00:00:00+00:00\", \"2012-06-01 00:00:00+00:00\", \"2012-07-01 00:00:00+00:00\", \"2012-08-01 00:00:00+00:00\", \"2012-09-01 00:00:00+00:00\", \"2012-10-01 00:00:00+00:00\", \"2012-11-01 00:00:00+00:00\", \"2012-12-01 00:00:00+00:00\", \"2013-01-01 00:00:00+00:00\", \"2013-02-01 00:00:00+00:00\", \"2013-03-01 00:00:00+00:00\", \"2013-04-01 00:00:00+00:00\", \"2013-05-01 00:00:00+00:00\", \"2013-06-01 00:00:00+00:00\", \"2013-07-01 00:00:00+00:00\", \"2013-08-01 00:00:00+00:00\", \"2013-09-01 00:00:00+00:00\", \"2013-10-01 00:00:00+00:00\", \"2013-11-01 00:00:00+00:00\", \"2013-12-01 00:00:00+00:00\", \"2014-01-01 00:00:00+00:00\", \"2014-02-01 00:00:00+00:00\", \"2014-03-01 00:00:00+00:00\", \"2014-04-01 00:00:00+00:00\", \"2014-05-01 00:00:00+00:00\", \"2014-06-01 00:00:00+00:00\", \"2014-07-01 00:00:00+00:00\", \"2014-08-01 00:00:00+00:00\", \"2014-09-01 00:00:00+00:00\", \"2014-10-01 00:00:00+00:00\", \"2014-11-01 00:00:00+00:00\", \"2014-12-01 00:00:00+00:00\", \"2015-01-01 00:00:00+00:00\", \"2015-02-01 00:00:00+00:00\", \"2015-03-01 00:00:00+00:00\", \"2015-04-01 00:00:00+00:00\", \"2015-05-01 00:00:00+00:00\", \"2015-06-01 00:00:00+00:00\", \"2015-07-01 00:00:00+00:00\", \"2015-08-01 00:00:00+00:00\", \"2015-09-01 00:00:00+00:00\", \"2015-10-01 00:00:00+00:00\", \"2015-11-01 00:00:00+00:00\", \"2015-12-01 00:00:00+00:00\", \"2016-01-01 00:00:00+00:00\", \"2016-02-01 00:00:00+00:00\", \"2016-03-01 00:00:00+00:00\", \"2016-04-01 00:00:00+00:00\", \"2016-05-01 00:00:00+00:00\", \"2016-06-01 00:00:00+00:00\", \"2016-07-01 00:00:00+00:00\", \"2016-08-01 00:00:00+00:00\", \"2016-09-01 00:00:00+00:00\", \"2016-10-01 00:00:00+00:00\", \"2016-11-01 00:00:00+00:00\", \"2016-12-01 00:00:00+00:00\"], \"y\": [-4.05, -4.17370818397715, -2.9907159392306575, 1.9697804660336018, 12.098827160601392, 15.539478793338716, 19.535964506268062, 23.595347969005385, 19.528240740873677, 18.155570987559734, 12.398678315513429, 5.328310185137502, 0.10731033453763178, 2.387014635654567, 2.639847883563989, 7.1746191756236515, 11.894421296402783, 17.453136200748638, 21.88310185181946, 23.3480809439247, 23.07968936688711, 14.328456790141685, 9.662612007208315, 1.2182253086013881, -2.964896953424734, -2.0699074073830626, 1.9155970626106322, 5.004353345288971, 11.183688271579156, 17.113582735938174, 21.51374999990555, 21.765561529327965, 22.43885155311156, 15.48960648147915, 12.253390083645165, 5.4150385801819425, 0.32738948628225917, -3.6699372760577864, -1.641236772499999, 4.280585424151879, 14.26707561731947, 17.691255973702972, 19.52679012341943, 23.091614396801127, 22.794205495712397, 19.322353395047234, 10.433534946188164, 6.177222222227783, -0.16908602144085674, -4.329062126686827, -1.6620453041755963, 4.589038231694893, 11.639405864208328, 16.40987903212098, 20.340570987611137, 23.69944743133066, 21.906712962977867, 15.549413580315276, 8.017144564032249, 7.440933641893055, -3.4859468339059174, -2.1868130226612914, -2.8494708994583324, 4.58978494619758, 12.97899691359584, 16.644922341885774, 21.157114197476385, 21.63498357216667, 22.874126344032288, 19.899899691284702, 9.405167263958338, 1.368518518531944, 0.6180928912862907, -1.9652105734932808, -8.817241379511506, 6.591502389389782, 11.782770061750009, 16.985595878202975, 22.157129629666652, 24.52534348866935, 23.384333930762104, 19.302947530852816, 11.435580943814498, 6.608132715968049, -3.672909199561833, -1.768578255694893, 0.41817129626636834, 1.9574447432042996, 12.045563271715274, 17.208975507775524, 20.345663580101363, 22.53366935484677, 23.00524940272849, 15.317476851763894, 12.449133811353509, 6.425663580161098, -0.6900537634771517, 0.23453554361290319, 2.742997685125002, 8.408303464817191, 12.486180555419452, 15.75221774211019, 19.87430555561252, 21.911598440431842, 20.78186977299328, 17.258387345837477, 12.381802568823925, 6.639097222180549, 0.5565860215053754, -0.7701239545954316, 0.01700562168601284, 5.44159199527554, 10.632800925994447, 17.067659796676068, 20.51178240744167, 23.80348715663978, 23.745766128951615, 18.308472222362493, 10.17040770620296, 5.553040123498614, 0.828643966538981, -3.0145758662284945, 4.150782247757183, 5.901403823206992, 12.731427469113884, 16.19921594977285, 21.46338734561944, 22.840225507903245, 21.38309438479299, 18.3558333336236, 8.923947132509403, 3.0486265432111135, -2.0172723194468376]}, {\"line\": {\"color\": \"rgba(55, 128, 191, 1.0)\", \"dash\": \"solid\", \"shape\": \"linear\", \"width\": 1.3}, \"mode\": \"lines\", \"name\": \"Humidity\", \"text\": \"\", \"type\": \"scatter\", \"x\": [\"2005-12-01 00:00:00+00:00\", \"2006-01-01 00:00:00+00:00\", \"2006-02-01 00:00:00+00:00\", \"2006-03-01 00:00:00+00:00\", \"2006-04-01 00:00:00+00:00\", \"2006-05-01 00:00:00+00:00\", \"2006-06-01 00:00:00+00:00\", \"2006-07-01 00:00:00+00:00\", \"2006-08-01 00:00:00+00:00\", \"2006-09-01 00:00:00+00:00\", \"2006-10-01 00:00:00+00:00\", \"2006-11-01 00:00:00+00:00\", \"2006-12-01 00:00:00+00:00\", \"2007-01-01 00:00:00+00:00\", \"2007-02-01 00:00:00+00:00\", \"2007-03-01 00:00:00+00:00\", \"2007-04-01 00:00:00+00:00\", \"2007-05-01 00:00:00+00:00\", \"2007-06-01 00:00:00+00:00\", \"2007-07-01 00:00:00+00:00\", \"2007-08-01 00:00:00+00:00\", \"2007-09-01 00:00:00+00:00\", \"2007-10-01 00:00:00+00:00\", \"2007-11-01 00:00:00+00:00\", \"2007-12-01 00:00:00+00:00\", \"2008-01-01 00:00:00+00:00\", \"2008-02-01 00:00:00+00:00\", \"2008-03-01 00:00:00+00:00\", \"2008-04-01 00:00:00+00:00\", \"2008-05-01 00:00:00+00:00\", \"2008-06-01 00:00:00+00:00\", \"2008-07-01 00:00:00+00:00\", \"2008-08-01 00:00:00+00:00\", \"2008-09-01 00:00:00+00:00\", \"2008-10-01 00:00:00+00:00\", \"2008-11-01 00:00:00+00:00\", \"2008-12-01 00:00:00+00:00\", \"2009-01-01 00:00:00+00:00\", \"2009-02-01 00:00:00+00:00\", \"2009-03-01 00:00:00+00:00\", \"2009-04-01 00:00:00+00:00\", \"2009-05-01 00:00:00+00:00\", \"2009-06-01 00:00:00+00:00\", \"2009-07-01 00:00:00+00:00\", \"2009-08-01 00:00:00+00:00\", \"2009-09-01 00:00:00+00:00\", \"2009-10-01 00:00:00+00:00\", \"2009-11-01 00:00:00+00:00\", \"2009-12-01 00:00:00+00:00\", \"2010-01-01 00:00:00+00:00\", \"2010-02-01 00:00:00+00:00\", \"2010-03-01 00:00:00+00:00\", \"2010-04-01 00:00:00+00:00\", \"2010-05-01 00:00:00+00:00\", \"2010-06-01 00:00:00+00:00\", \"2010-07-01 00:00:00+00:00\", \"2010-08-01 00:00:00+00:00\", \"2010-09-01 00:00:00+00:00\", \"2010-10-01 00:00:00+00:00\", \"2010-11-01 00:00:00+00:00\", \"2010-12-01 00:00:00+00:00\", \"2011-01-01 00:00:00+00:00\", \"2011-02-01 00:00:00+00:00\", \"2011-03-01 00:00:00+00:00\", \"2011-04-01 00:00:00+00:00\", \"2011-05-01 00:00:00+00:00\", \"2011-06-01 00:00:00+00:00\", \"2011-07-01 00:00:00+00:00\", \"2011-08-01 00:00:00+00:00\", \"2011-09-01 00:00:00+00:00\", \"2011-10-01 00:00:00+00:00\", \"2011-11-01 00:00:00+00:00\", \"2011-12-01 00:00:00+00:00\", \"2012-01-01 00:00:00+00:00\", \"2012-02-01 00:00:00+00:00\", \"2012-03-01 00:00:00+00:00\", \"2012-04-01 00:00:00+00:00\", \"2012-05-01 00:00:00+00:00\", \"2012-06-01 00:00:00+00:00\", \"2012-07-01 00:00:00+00:00\", \"2012-08-01 00:00:00+00:00\", \"2012-09-01 00:00:00+00:00\", \"2012-10-01 00:00:00+00:00\", \"2012-11-01 00:00:00+00:00\", \"2012-12-01 00:00:00+00:00\", \"2013-01-01 00:00:00+00:00\", \"2013-02-01 00:00:00+00:00\", \"2013-03-01 00:00:00+00:00\", \"2013-04-01 00:00:00+00:00\", \"2013-05-01 00:00:00+00:00\", \"2013-06-01 00:00:00+00:00\", \"2013-07-01 00:00:00+00:00\", \"2013-08-01 00:00:00+00:00\", \"2013-09-01 00:00:00+00:00\", \"2013-10-01 00:00:00+00:00\", \"2013-11-01 00:00:00+00:00\", \"2013-12-01 00:00:00+00:00\", \"2014-01-01 00:00:00+00:00\", \"2014-02-01 00:00:00+00:00\", \"2014-03-01 00:00:00+00:00\", \"2014-04-01 00:00:00+00:00\", \"2014-05-01 00:00:00+00:00\", \"2014-06-01 00:00:00+00:00\", \"2014-07-01 00:00:00+00:00\", \"2014-08-01 00:00:00+00:00\", \"2014-09-01 00:00:00+00:00\", \"2014-10-01 00:00:00+00:00\", \"2014-11-01 00:00:00+00:00\", \"2014-12-01 00:00:00+00:00\", \"2015-01-01 00:00:00+00:00\", \"2015-02-01 00:00:00+00:00\", \"2015-03-01 00:00:00+00:00\", \"2015-04-01 00:00:00+00:00\", \"2015-05-01 00:00:00+00:00\", \"2015-06-01 00:00:00+00:00\", \"2015-07-01 00:00:00+00:00\", \"2015-08-01 00:00:00+00:00\", \"2015-09-01 00:00:00+00:00\", \"2015-10-01 00:00:00+00:00\", \"2015-11-01 00:00:00+00:00\", \"2015-12-01 00:00:00+00:00\", \"2016-01-01 00:00:00+00:00\", \"2016-02-01 00:00:00+00:00\", \"2016-03-01 00:00:00+00:00\", \"2016-04-01 00:00:00+00:00\", \"2016-05-01 00:00:00+00:00\", \"2016-06-01 00:00:00+00:00\", \"2016-07-01 00:00:00+00:00\", \"2016-08-01 00:00:00+00:00\", \"2016-09-01 00:00:00+00:00\", \"2016-10-01 00:00:00+00:00\", \"2016-11-01 00:00:00+00:00\", \"2016-12-01 00:00:00+00:00\"], \"y\": [0.89, 0.8346102150537641, 0.8434672619047615, 0.7787365591397847, 0.7286249999999997, 0.7218010752688181, 0.7471250000000006, 0.6563037634408605, 0.7607526881720421, 0.689444444444444, 0.7336424731182793, 0.8127222222222216, 0.9053763440860214, 0.8134946236559147, 0.8150148809523807, 0.7138844086021512, 0.5363611111111108, 0.6532526881720432, 0.6164861111111103, 0.4912500000000004, 0.562876344086022, 0.6827083333333335, 0.7409543010752693, 0.8014444444444456, 0.8562500000000028, 0.8194758064516136, 0.6826149425287352, 0.6684677419354836, 0.6931944444444447, 0.6631317204301068, 0.679861111111111, 0.616021505376344, 0.5518951612903223, 0.6907222222222226, 0.7539112903225803, 0.766972222222222, 0.8282258064516116, 0.8676209677419353, 0.8211607142857134, 0.6966801075268814, 0.5678472222222216, 0.5971505376344078, 0.6759444444444443, 0.6002150537634405, 0.5972311827956995, 0.5967638888888885, 0.7634677419354835, 0.8652916666666667, 0.8446370967741941, 0.875913978494624, 0.8516815476190482, 0.6701612903225801, 0.7068750000000003, 0.773091397849462, 0.7783472222222217, 0.7553225806451617, 0.7427864583333329, 0.8268055555555562, 0.8155376344086022, 0.8587222222222209, 0.9136021505376364, 0.9220295698924741, 0.8541369047619047, 0.7829704301075258, 0.5916249999999998, 0.6880376344086007, 0.6776111111111113, 0.7075000000000009, 0.6312634408602149, 0.6113749999999999, 0.7017473118279564, 0.800527777777778, 0.866223118279567, 0.7975806451612893, 0.7628591954022999, 0.5359408602150529, 0.6502222222222221, 0.6728629032258069, 0.6223055555555541, 0.580860215053765, 0.5000806451612896, 0.6033194444444441, 0.7943145161290306, 0.8713888888888859, 0.8868010752688169, 0.8831048387096783, 0.8693452380952399, 0.8099462365591408, 0.6776666666666661, 0.7353091397849463, 0.7618472222222227, 0.6365860215053752, 0.5962634408602155, 0.6919861111111119, 0.7487499999999996, 0.824791666666667, 0.8239650537634399, 0.8461693548387079, 0.812529761904761, 0.6404032258064514, 0.6914027777777771, 0.698602150537634, 0.6024027777777783, 0.6993927125506061, 0.7078091397849468, 0.7859444444444448, 0.8261155913978488, 0.8397361111111081, 0.8359274193548372, 0.8315188172042988, 0.80345238095238, 0.6694758064516136, 0.5477638888888885, 0.7027419354838709, 0.6552083333333333, 0.6229838709677421, 0.6598252688172042, 0.7128888888888891, 0.8405241935483865, 0.8170138888888878, 0.9253897849462391, 0.8661559139784946, 0.8368534482758616, 0.7646774193548389, 0.6599722222222224, 0.702163978494623, 0.7334583333333333, 0.6693279569892487, 0.6740456989247311, 0.6888333333333336, 0.7999059139784944, 0.8484722222222219, 0.8879811574697188]}],\n",
       "                        {\"legend\": {\"bgcolor\": \"#F5F6F9\", \"font\": {\"color\": \"#4D5663\"}}, \"paper_bgcolor\": \"#F5F6F9\", \"plot_bgcolor\": \"#F5F6F9\", \"template\": {\"data\": {\"bar\": [{\"error_x\": {\"color\": \"#2a3f5f\"}, \"error_y\": {\"color\": \"#2a3f5f\"}, \"marker\": {\"line\": {\"color\": \"#E5ECF6\", \"width\": 0.5}}, \"type\": \"bar\"}], \"barpolar\": [{\"marker\": {\"line\": {\"color\": \"#E5ECF6\", \"width\": 0.5}}, \"type\": \"barpolar\"}], \"carpet\": [{\"aaxis\": {\"endlinecolor\": \"#2a3f5f\", \"gridcolor\": \"white\", \"linecolor\": \"white\", \"minorgridcolor\": \"white\", \"startlinecolor\": \"#2a3f5f\"}, \"baxis\": {\"endlinecolor\": \"#2a3f5f\", \"gridcolor\": \"white\", \"linecolor\": \"white\", \"minorgridcolor\": \"white\", \"startlinecolor\": \"#2a3f5f\"}, \"type\": \"carpet\"}], \"choropleth\": [{\"colorbar\": {\"outlinewidth\": 0, \"ticks\": \"\"}, \"type\": \"choropleth\"}], \"contour\": [{\"colorbar\": {\"outlinewidth\": 0, \"ticks\": \"\"}, \"colorscale\": [[0.0, \"#0d0887\"], [0.1111111111111111, \"#46039f\"], [0.2222222222222222, \"#7201a8\"], [0.3333333333333333, \"#9c179e\"], [0.4444444444444444, \"#bd3786\"], [0.5555555555555556, \"#d8576b\"], [0.6666666666666666, \"#ed7953\"], [0.7777777777777778, \"#fb9f3a\"], [0.8888888888888888, \"#fdca26\"], [1.0, \"#f0f921\"]], \"type\": \"contour\"}], \"contourcarpet\": [{\"colorbar\": {\"outlinewidth\": 0, \"ticks\": \"\"}, \"type\": \"contourcarpet\"}], \"heatmap\": [{\"colorbar\": {\"outlinewidth\": 0, \"ticks\": \"\"}, \"colorscale\": [[0.0, \"#0d0887\"], [0.1111111111111111, \"#46039f\"], [0.2222222222222222, \"#7201a8\"], [0.3333333333333333, \"#9c179e\"], [0.4444444444444444, \"#bd3786\"], [0.5555555555555556, \"#d8576b\"], [0.6666666666666666, \"#ed7953\"], [0.7777777777777778, \"#fb9f3a\"], [0.8888888888888888, \"#fdca26\"], [1.0, \"#f0f921\"]], \"type\": \"heatmap\"}], \"heatmapgl\": [{\"colorbar\": {\"outlinewidth\": 0, \"ticks\": \"\"}, \"colorscale\": [[0.0, \"#0d0887\"], [0.1111111111111111, \"#46039f\"], [0.2222222222222222, \"#7201a8\"], [0.3333333333333333, \"#9c179e\"], [0.4444444444444444, \"#bd3786\"], [0.5555555555555556, \"#d8576b\"], [0.6666666666666666, \"#ed7953\"], [0.7777777777777778, \"#fb9f3a\"], [0.8888888888888888, \"#fdca26\"], [1.0, \"#f0f921\"]], \"type\": \"heatmapgl\"}], \"histogram\": [{\"marker\": {\"colorbar\": {\"outlinewidth\": 0, \"ticks\": \"\"}}, \"type\": \"histogram\"}], \"histogram2d\": [{\"colorbar\": {\"outlinewidth\": 0, \"ticks\": \"\"}, \"colorscale\": [[0.0, \"#0d0887\"], [0.1111111111111111, \"#46039f\"], [0.2222222222222222, \"#7201a8\"], [0.3333333333333333, \"#9c179e\"], [0.4444444444444444, \"#bd3786\"], [0.5555555555555556, \"#d8576b\"], [0.6666666666666666, \"#ed7953\"], [0.7777777777777778, \"#fb9f3a\"], [0.8888888888888888, \"#fdca26\"], [1.0, \"#f0f921\"]], \"type\": \"histogram2d\"}], \"histogram2dcontour\": [{\"colorbar\": {\"outlinewidth\": 0, \"ticks\": \"\"}, \"colorscale\": [[0.0, \"#0d0887\"], [0.1111111111111111, \"#46039f\"], [0.2222222222222222, \"#7201a8\"], [0.3333333333333333, \"#9c179e\"], [0.4444444444444444, \"#bd3786\"], [0.5555555555555556, \"#d8576b\"], [0.6666666666666666, \"#ed7953\"], [0.7777777777777778, \"#fb9f3a\"], [0.8888888888888888, \"#fdca26\"], [1.0, \"#f0f921\"]], \"type\": \"histogram2dcontour\"}], \"mesh3d\": [{\"colorbar\": {\"outlinewidth\": 0, \"ticks\": \"\"}, \"type\": \"mesh3d\"}], \"parcoords\": [{\"line\": {\"colorbar\": {\"outlinewidth\": 0, \"ticks\": \"\"}}, \"type\": \"parcoords\"}], \"pie\": [{\"automargin\": true, \"type\": \"pie\"}], \"scatter\": [{\"marker\": {\"colorbar\": {\"outlinewidth\": 0, \"ticks\": \"\"}}, \"type\": \"scatter\"}], \"scatter3d\": [{\"line\": {\"colorbar\": {\"outlinewidth\": 0, \"ticks\": \"\"}}, \"marker\": {\"colorbar\": {\"outlinewidth\": 0, \"ticks\": \"\"}}, \"type\": \"scatter3d\"}], \"scattercarpet\": [{\"marker\": {\"colorbar\": {\"outlinewidth\": 0, \"ticks\": \"\"}}, \"type\": \"scattercarpet\"}], \"scattergeo\": [{\"marker\": {\"colorbar\": {\"outlinewidth\": 0, \"ticks\": \"\"}}, \"type\": \"scattergeo\"}], \"scattergl\": [{\"marker\": {\"colorbar\": {\"outlinewidth\": 0, \"ticks\": \"\"}}, \"type\": \"scattergl\"}], \"scattermapbox\": [{\"marker\": {\"colorbar\": {\"outlinewidth\": 0, \"ticks\": \"\"}}, \"type\": \"scattermapbox\"}], \"scatterpolar\": [{\"marker\": {\"colorbar\": {\"outlinewidth\": 0, \"ticks\": \"\"}}, \"type\": \"scatterpolar\"}], \"scatterpolargl\": [{\"marker\": {\"colorbar\": {\"outlinewidth\": 0, \"ticks\": \"\"}}, \"type\": \"scatterpolargl\"}], \"scatterternary\": [{\"marker\": {\"colorbar\": {\"outlinewidth\": 0, \"ticks\": \"\"}}, \"type\": \"scatterternary\"}], \"surface\": [{\"colorbar\": {\"outlinewidth\": 0, \"ticks\": \"\"}, \"colorscale\": [[0.0, \"#0d0887\"], [0.1111111111111111, \"#46039f\"], [0.2222222222222222, \"#7201a8\"], [0.3333333333333333, \"#9c179e\"], [0.4444444444444444, \"#bd3786\"], [0.5555555555555556, \"#d8576b\"], [0.6666666666666666, \"#ed7953\"], [0.7777777777777778, \"#fb9f3a\"], [0.8888888888888888, \"#fdca26\"], [1.0, \"#f0f921\"]], \"type\": \"surface\"}], \"table\": [{\"cells\": {\"fill\": {\"color\": \"#EBF0F8\"}, \"line\": {\"color\": \"white\"}}, \"header\": {\"fill\": {\"color\": \"#C8D4E3\"}, \"line\": {\"color\": \"white\"}}, \"type\": \"table\"}]}, \"layout\": {\"annotationdefaults\": {\"arrowcolor\": \"#2a3f5f\", \"arrowhead\": 0, \"arrowwidth\": 1}, \"coloraxis\": {\"colorbar\": {\"outlinewidth\": 0, \"ticks\": \"\"}}, \"colorscale\": {\"diverging\": [[0, \"#8e0152\"], [0.1, \"#c51b7d\"], [0.2, \"#de77ae\"], [0.3, \"#f1b6da\"], [0.4, \"#fde0ef\"], [0.5, \"#f7f7f7\"], [0.6, \"#e6f5d0\"], [0.7, \"#b8e186\"], [0.8, \"#7fbc41\"], [0.9, \"#4d9221\"], [1, \"#276419\"]], \"sequential\": [[0.0, \"#0d0887\"], [0.1111111111111111, \"#46039f\"], [0.2222222222222222, \"#7201a8\"], [0.3333333333333333, \"#9c179e\"], [0.4444444444444444, \"#bd3786\"], [0.5555555555555556, \"#d8576b\"], [0.6666666666666666, \"#ed7953\"], [0.7777777777777778, \"#fb9f3a\"], [0.8888888888888888, \"#fdca26\"], [1.0, \"#f0f921\"]], \"sequentialminus\": [[0.0, \"#0d0887\"], [0.1111111111111111, \"#46039f\"], [0.2222222222222222, \"#7201a8\"], [0.3333333333333333, \"#9c179e\"], [0.4444444444444444, \"#bd3786\"], [0.5555555555555556, \"#d8576b\"], [0.6666666666666666, \"#ed7953\"], [0.7777777777777778, \"#fb9f3a\"], [0.8888888888888888, \"#fdca26\"], [1.0, \"#f0f921\"]]}, \"colorway\": [\"#636efa\", \"#EF553B\", \"#00cc96\", \"#ab63fa\", \"#FFA15A\", \"#19d3f3\", \"#FF6692\", \"#B6E880\", \"#FF97FF\", \"#FECB52\"], \"font\": {\"color\": \"#2a3f5f\"}, \"geo\": {\"bgcolor\": \"white\", \"lakecolor\": \"white\", \"landcolor\": \"#E5ECF6\", \"showlakes\": true, \"showland\": true, \"subunitcolor\": \"white\"}, \"hoverlabel\": {\"align\": \"left\"}, \"hovermode\": \"closest\", \"mapbox\": {\"style\": \"light\"}, \"paper_bgcolor\": \"white\", \"plot_bgcolor\": \"#E5ECF6\", \"polar\": {\"angularaxis\": {\"gridcolor\": \"white\", \"linecolor\": \"white\", \"ticks\": \"\"}, \"bgcolor\": \"#E5ECF6\", \"radialaxis\": {\"gridcolor\": \"white\", \"linecolor\": \"white\", \"ticks\": \"\"}}, \"scene\": {\"xaxis\": {\"backgroundcolor\": \"#E5ECF6\", \"gridcolor\": \"white\", \"gridwidth\": 2, \"linecolor\": \"white\", \"showbackground\": true, \"ticks\": \"\", \"zerolinecolor\": \"white\"}, \"yaxis\": {\"backgroundcolor\": \"#E5ECF6\", \"gridcolor\": \"white\", \"gridwidth\": 2, \"linecolor\": \"white\", \"showbackground\": true, \"ticks\": \"\", \"zerolinecolor\": \"white\"}, \"zaxis\": {\"backgroundcolor\": \"#E5ECF6\", \"gridcolor\": \"white\", \"gridwidth\": 2, \"linecolor\": \"white\", \"showbackground\": true, \"ticks\": \"\", \"zerolinecolor\": \"white\"}}, \"shapedefaults\": {\"line\": {\"color\": \"#2a3f5f\"}}, \"ternary\": {\"aaxis\": {\"gridcolor\": \"white\", \"linecolor\": \"white\", \"ticks\": \"\"}, \"baxis\": {\"gridcolor\": \"white\", \"linecolor\": \"white\", \"ticks\": \"\"}, \"bgcolor\": \"#E5ECF6\", \"caxis\": {\"gridcolor\": \"white\", \"linecolor\": \"white\", \"ticks\": \"\"}}, \"title\": {\"x\": 0.05}, \"xaxis\": {\"automargin\": true, \"gridcolor\": \"white\", \"linecolor\": \"white\", \"ticks\": \"\", \"title\": {\"standoff\": 15}, \"zerolinecolor\": \"white\", \"zerolinewidth\": 2}, \"yaxis\": {\"automargin\": true, \"gridcolor\": \"white\", \"linecolor\": \"white\", \"ticks\": \"\", \"title\": {\"standoff\": 15}, \"zerolinecolor\": \"white\", \"zerolinewidth\": 2}}}, \"title\": {\"font\": {\"color\": \"#4D5663\"}, \"text\": \"Changes in Apparent Temperature (C) and Humidity w.r.t DateTime\"}, \"xaxis\": {\"gridcolor\": \"#E1E5ED\", \"showgrid\": true, \"tickfont\": {\"color\": \"#4D5663\"}, \"title\": {\"font\": {\"color\": \"#4D5663\"}, \"text\": \"Formatted Date\"}, \"zerolinecolor\": \"#E1E5ED\"}, \"yaxis\": {\"gridcolor\": \"#E1E5ED\", \"showgrid\": true, \"tickfont\": {\"color\": \"#4D5663\"}, \"title\": {\"font\": {\"color\": \"#4D5663\"}, \"text\": \"\"}, \"zerolinecolor\": \"#E1E5ED\"}},\n",
       "                        {\"showLink\": true, \"linkText\": \"Export to plot.ly\", \"plotlyServerURL\": \"https://plot.ly\", \"responsive\": true}\n",
       "                    ).then(function(){\n",
       "                            \n",
       "var gd = document.getElementById('9ef5bf31-af19-4f54-82cf-a546630e748f');\n",
       "var x = new MutationObserver(function (mutations, observer) {{\n",
       "        var display = window.getComputedStyle(gd).display;\n",
       "        if (!display || display === 'none') {{\n",
       "            console.log([gd, 'removed!']);\n",
       "            Plotly.purge(gd);\n",
       "            observer.disconnect();\n",
       "        }}\n",
       "}});\n",
       "\n",
       "// Listen for the removal of the full notebook cells\n",
       "var notebookContainer = gd.closest('#notebook-container');\n",
       "if (notebookContainer) {{\n",
       "    x.observe(notebookContainer, {childList: true});\n",
       "}}\n",
       "\n",
       "// Listen for the clearing of the current output cell\n",
       "var outputEl = gd.closest('.output');\n",
       "if (outputEl) {{\n",
       "    x.observe(outputEl, {childList: true});\n",
       "}}\n",
       "\n",
       "                        })\n",
       "                };\n",
       "                });\n",
       "            </script>\n",
       "        </div>"
      ]
     },
     "metadata": {},
     "output_type": "display_data"
    }
   ],
   "source": [
    "# We will plot both value with respect to datetime i.e. index column to check variation in data..\n",
    "\n",
    "df_avg.iplot(title ='Changes in Apparent Temperature (C) and Humidity w.r.t DateTime',xTitle= 'Formatted Date')"
   ]
  },
  {
   "cell_type": "markdown",
   "metadata": {},
   "source": [
    "## Conclusion:- \n",
    "1. For entire 10 years span, Average Apparent Temperature gradually increase in month of January-July & then decrease in month    of July-December.\n",
    "\n",
    "2. In every year maximum Apparent temperature noted in July or August month also overall max Apparent Tempearture of 24.52°C      noted in month of July 2012.\n",
    "\n",
    "3. Sudden fall in temperature has observed in February 2012 i.e -8.81°C.\n",
    "\n",
    "4. No any drastic changes has observed in Average humidity, i.e.almost straight line parallel to X-axis. Humidity is almost        constant throught the decade.\n"
   ]
  },
  {
   "cell_type": "code",
   "execution_count": 12,
   "metadata": {},
   "outputs": [
    {
     "data": {
      "text/html": [
       "<div>\n",
       "<style scoped>\n",
       "    .dataframe tbody tr th:only-of-type {\n",
       "        vertical-align: middle;\n",
       "    }\n",
       "\n",
       "    .dataframe tbody tr th {\n",
       "        vertical-align: top;\n",
       "    }\n",
       "\n",
       "    .dataframe thead th {\n",
       "        text-align: right;\n",
       "    }\n",
       "</style>\n",
       "<table border=\"1\" class=\"dataframe\">\n",
       "  <thead>\n",
       "    <tr style=\"text-align: right;\">\n",
       "      <th></th>\n",
       "      <th>Apparent Temperature (C)</th>\n",
       "      <th>Humidity</th>\n",
       "    </tr>\n",
       "    <tr>\n",
       "      <th>Formatted Date</th>\n",
       "      <th></th>\n",
       "      <th></th>\n",
       "    </tr>\n",
       "  </thead>\n",
       "  <tbody>\n",
       "    <tr>\n",
       "      <th>2006-04-01 00:00:00+00:00</th>\n",
       "      <td>12.098827</td>\n",
       "      <td>0.728625</td>\n",
       "    </tr>\n",
       "    <tr>\n",
       "      <th>2007-04-01 00:00:00+00:00</th>\n",
       "      <td>11.894421</td>\n",
       "      <td>0.536361</td>\n",
       "    </tr>\n",
       "    <tr>\n",
       "      <th>2008-04-01 00:00:00+00:00</th>\n",
       "      <td>11.183688</td>\n",
       "      <td>0.693194</td>\n",
       "    </tr>\n",
       "    <tr>\n",
       "      <th>2009-04-01 00:00:00+00:00</th>\n",
       "      <td>14.267076</td>\n",
       "      <td>0.567847</td>\n",
       "    </tr>\n",
       "    <tr>\n",
       "      <th>2010-04-01 00:00:00+00:00</th>\n",
       "      <td>11.639406</td>\n",
       "      <td>0.706875</td>\n",
       "    </tr>\n",
       "    <tr>\n",
       "      <th>2011-04-01 00:00:00+00:00</th>\n",
       "      <td>12.978997</td>\n",
       "      <td>0.591625</td>\n",
       "    </tr>\n",
       "    <tr>\n",
       "      <th>2012-04-01 00:00:00+00:00</th>\n",
       "      <td>11.782770</td>\n",
       "      <td>0.650222</td>\n",
       "    </tr>\n",
       "    <tr>\n",
       "      <th>2013-04-01 00:00:00+00:00</th>\n",
       "      <td>12.045563</td>\n",
       "      <td>0.677667</td>\n",
       "    </tr>\n",
       "    <tr>\n",
       "      <th>2014-04-01 00:00:00+00:00</th>\n",
       "      <td>12.486181</td>\n",
       "      <td>0.691403</td>\n",
       "    </tr>\n",
       "    <tr>\n",
       "      <th>2015-04-01 00:00:00+00:00</th>\n",
       "      <td>10.632801</td>\n",
       "      <td>0.547764</td>\n",
       "    </tr>\n",
       "    <tr>\n",
       "      <th>2016-04-01 00:00:00+00:00</th>\n",
       "      <td>12.731427</td>\n",
       "      <td>0.659972</td>\n",
       "    </tr>\n",
       "  </tbody>\n",
       "</table>\n",
       "</div>"
      ],
      "text/plain": [
       "                           Apparent Temperature (C)  Humidity\n",
       "Formatted Date                                               \n",
       "2006-04-01 00:00:00+00:00                 12.098827  0.728625\n",
       "2007-04-01 00:00:00+00:00                 11.894421  0.536361\n",
       "2008-04-01 00:00:00+00:00                 11.183688  0.693194\n",
       "2009-04-01 00:00:00+00:00                 14.267076  0.567847\n",
       "2010-04-01 00:00:00+00:00                 11.639406  0.706875\n",
       "2011-04-01 00:00:00+00:00                 12.978997  0.591625\n",
       "2012-04-01 00:00:00+00:00                 11.782770  0.650222\n",
       "2013-04-01 00:00:00+00:00                 12.045563  0.677667\n",
       "2014-04-01 00:00:00+00:00                 12.486181  0.691403\n",
       "2015-04-01 00:00:00+00:00                 10.632801  0.547764\n",
       "2016-04-01 00:00:00+00:00                 12.731427  0.659972"
      ]
     },
     "execution_count": 12,
     "metadata": {},
     "output_type": "execute_result"
    }
   ],
   "source": [
    "# Now we will find particular month == 'April' as per question. \n",
    "# we will extract only April month data using index.month == 4. \n",
    "\n",
    "data = df_avg[df_avg.index.month==4]\n",
    "data"
   ]
  },
  {
   "cell_type": "code",
   "execution_count": 13,
   "metadata": {},
   "outputs": [
    {
     "data": {
      "application/vnd.plotly.v1+json": {
       "config": {
        "linkText": "Export to plot.ly",
        "plotlyServerURL": "https://plot.ly",
        "showLink": true
       },
       "data": [
        {
         "line": {
          "color": "rgba(255, 153, 51, 1.0)",
          "dash": "solid",
          "shape": "linear",
          "width": 1.3
         },
         "mode": "lines",
         "name": "Apparent Temperature (C)",
         "text": "",
         "type": "scatter",
         "x": [
          "2006-04-01 00:00:00+00:00",
          "2007-04-01 00:00:00+00:00",
          "2008-04-01 00:00:00+00:00",
          "2009-04-01 00:00:00+00:00",
          "2010-04-01 00:00:00+00:00",
          "2011-04-01 00:00:00+00:00",
          "2012-04-01 00:00:00+00:00",
          "2013-04-01 00:00:00+00:00",
          "2014-04-01 00:00:00+00:00",
          "2015-04-01 00:00:00+00:00",
          "2016-04-01 00:00:00+00:00"
         ],
         "y": [
          12.098827160601392,
          11.894421296402783,
          11.183688271579156,
          14.26707561731947,
          11.639405864208328,
          12.97899691359584,
          11.782770061750009,
          12.045563271715274,
          12.486180555419452,
          10.632800925994447,
          12.731427469113884
         ]
        },
        {
         "line": {
          "color": "rgba(55, 128, 191, 1.0)",
          "dash": "solid",
          "shape": "linear",
          "width": 1.3
         },
         "mode": "lines",
         "name": "Humidity",
         "text": "",
         "type": "scatter",
         "x": [
          "2006-04-01 00:00:00+00:00",
          "2007-04-01 00:00:00+00:00",
          "2008-04-01 00:00:00+00:00",
          "2009-04-01 00:00:00+00:00",
          "2010-04-01 00:00:00+00:00",
          "2011-04-01 00:00:00+00:00",
          "2012-04-01 00:00:00+00:00",
          "2013-04-01 00:00:00+00:00",
          "2014-04-01 00:00:00+00:00",
          "2015-04-01 00:00:00+00:00",
          "2016-04-01 00:00:00+00:00"
         ],
         "y": [
          0.7286249999999997,
          0.5363611111111108,
          0.6931944444444447,
          0.5678472222222216,
          0.7068750000000003,
          0.5916249999999998,
          0.6502222222222221,
          0.6776666666666661,
          0.6914027777777771,
          0.5477638888888885,
          0.6599722222222224
         ]
        }
       ],
       "layout": {
        "legend": {
         "bgcolor": "#F5F6F9",
         "font": {
          "color": "#4D5663"
         }
        },
        "paper_bgcolor": "#F5F6F9",
        "plot_bgcolor": "#F5F6F9",
        "template": {
         "data": {
          "bar": [
           {
            "error_x": {
             "color": "#2a3f5f"
            },
            "error_y": {
             "color": "#2a3f5f"
            },
            "marker": {
             "line": {
              "color": "#E5ECF6",
              "width": 0.5
             }
            },
            "type": "bar"
           }
          ],
          "barpolar": [
           {
            "marker": {
             "line": {
              "color": "#E5ECF6",
              "width": 0.5
             }
            },
            "type": "barpolar"
           }
          ],
          "carpet": [
           {
            "aaxis": {
             "endlinecolor": "#2a3f5f",
             "gridcolor": "white",
             "linecolor": "white",
             "minorgridcolor": "white",
             "startlinecolor": "#2a3f5f"
            },
            "baxis": {
             "endlinecolor": "#2a3f5f",
             "gridcolor": "white",
             "linecolor": "white",
             "minorgridcolor": "white",
             "startlinecolor": "#2a3f5f"
            },
            "type": "carpet"
           }
          ],
          "choropleth": [
           {
            "colorbar": {
             "outlinewidth": 0,
             "ticks": ""
            },
            "type": "choropleth"
           }
          ],
          "contour": [
           {
            "colorbar": {
             "outlinewidth": 0,
             "ticks": ""
            },
            "colorscale": [
             [
              0,
              "#0d0887"
             ],
             [
              0.1111111111111111,
              "#46039f"
             ],
             [
              0.2222222222222222,
              "#7201a8"
             ],
             [
              0.3333333333333333,
              "#9c179e"
             ],
             [
              0.4444444444444444,
              "#bd3786"
             ],
             [
              0.5555555555555556,
              "#d8576b"
             ],
             [
              0.6666666666666666,
              "#ed7953"
             ],
             [
              0.7777777777777778,
              "#fb9f3a"
             ],
             [
              0.8888888888888888,
              "#fdca26"
             ],
             [
              1,
              "#f0f921"
             ]
            ],
            "type": "contour"
           }
          ],
          "contourcarpet": [
           {
            "colorbar": {
             "outlinewidth": 0,
             "ticks": ""
            },
            "type": "contourcarpet"
           }
          ],
          "heatmap": [
           {
            "colorbar": {
             "outlinewidth": 0,
             "ticks": ""
            },
            "colorscale": [
             [
              0,
              "#0d0887"
             ],
             [
              0.1111111111111111,
              "#46039f"
             ],
             [
              0.2222222222222222,
              "#7201a8"
             ],
             [
              0.3333333333333333,
              "#9c179e"
             ],
             [
              0.4444444444444444,
              "#bd3786"
             ],
             [
              0.5555555555555556,
              "#d8576b"
             ],
             [
              0.6666666666666666,
              "#ed7953"
             ],
             [
              0.7777777777777778,
              "#fb9f3a"
             ],
             [
              0.8888888888888888,
              "#fdca26"
             ],
             [
              1,
              "#f0f921"
             ]
            ],
            "type": "heatmap"
           }
          ],
          "heatmapgl": [
           {
            "colorbar": {
             "outlinewidth": 0,
             "ticks": ""
            },
            "colorscale": [
             [
              0,
              "#0d0887"
             ],
             [
              0.1111111111111111,
              "#46039f"
             ],
             [
              0.2222222222222222,
              "#7201a8"
             ],
             [
              0.3333333333333333,
              "#9c179e"
             ],
             [
              0.4444444444444444,
              "#bd3786"
             ],
             [
              0.5555555555555556,
              "#d8576b"
             ],
             [
              0.6666666666666666,
              "#ed7953"
             ],
             [
              0.7777777777777778,
              "#fb9f3a"
             ],
             [
              0.8888888888888888,
              "#fdca26"
             ],
             [
              1,
              "#f0f921"
             ]
            ],
            "type": "heatmapgl"
           }
          ],
          "histogram": [
           {
            "marker": {
             "colorbar": {
              "outlinewidth": 0,
              "ticks": ""
             }
            },
            "type": "histogram"
           }
          ],
          "histogram2d": [
           {
            "colorbar": {
             "outlinewidth": 0,
             "ticks": ""
            },
            "colorscale": [
             [
              0,
              "#0d0887"
             ],
             [
              0.1111111111111111,
              "#46039f"
             ],
             [
              0.2222222222222222,
              "#7201a8"
             ],
             [
              0.3333333333333333,
              "#9c179e"
             ],
             [
              0.4444444444444444,
              "#bd3786"
             ],
             [
              0.5555555555555556,
              "#d8576b"
             ],
             [
              0.6666666666666666,
              "#ed7953"
             ],
             [
              0.7777777777777778,
              "#fb9f3a"
             ],
             [
              0.8888888888888888,
              "#fdca26"
             ],
             [
              1,
              "#f0f921"
             ]
            ],
            "type": "histogram2d"
           }
          ],
          "histogram2dcontour": [
           {
            "colorbar": {
             "outlinewidth": 0,
             "ticks": ""
            },
            "colorscale": [
             [
              0,
              "#0d0887"
             ],
             [
              0.1111111111111111,
              "#46039f"
             ],
             [
              0.2222222222222222,
              "#7201a8"
             ],
             [
              0.3333333333333333,
              "#9c179e"
             ],
             [
              0.4444444444444444,
              "#bd3786"
             ],
             [
              0.5555555555555556,
              "#d8576b"
             ],
             [
              0.6666666666666666,
              "#ed7953"
             ],
             [
              0.7777777777777778,
              "#fb9f3a"
             ],
             [
              0.8888888888888888,
              "#fdca26"
             ],
             [
              1,
              "#f0f921"
             ]
            ],
            "type": "histogram2dcontour"
           }
          ],
          "mesh3d": [
           {
            "colorbar": {
             "outlinewidth": 0,
             "ticks": ""
            },
            "type": "mesh3d"
           }
          ],
          "parcoords": [
           {
            "line": {
             "colorbar": {
              "outlinewidth": 0,
              "ticks": ""
             }
            },
            "type": "parcoords"
           }
          ],
          "pie": [
           {
            "automargin": true,
            "type": "pie"
           }
          ],
          "scatter": [
           {
            "marker": {
             "colorbar": {
              "outlinewidth": 0,
              "ticks": ""
             }
            },
            "type": "scatter"
           }
          ],
          "scatter3d": [
           {
            "line": {
             "colorbar": {
              "outlinewidth": 0,
              "ticks": ""
             }
            },
            "marker": {
             "colorbar": {
              "outlinewidth": 0,
              "ticks": ""
             }
            },
            "type": "scatter3d"
           }
          ],
          "scattercarpet": [
           {
            "marker": {
             "colorbar": {
              "outlinewidth": 0,
              "ticks": ""
             }
            },
            "type": "scattercarpet"
           }
          ],
          "scattergeo": [
           {
            "marker": {
             "colorbar": {
              "outlinewidth": 0,
              "ticks": ""
             }
            },
            "type": "scattergeo"
           }
          ],
          "scattergl": [
           {
            "marker": {
             "colorbar": {
              "outlinewidth": 0,
              "ticks": ""
             }
            },
            "type": "scattergl"
           }
          ],
          "scattermapbox": [
           {
            "marker": {
             "colorbar": {
              "outlinewidth": 0,
              "ticks": ""
             }
            },
            "type": "scattermapbox"
           }
          ],
          "scatterpolar": [
           {
            "marker": {
             "colorbar": {
              "outlinewidth": 0,
              "ticks": ""
             }
            },
            "type": "scatterpolar"
           }
          ],
          "scatterpolargl": [
           {
            "marker": {
             "colorbar": {
              "outlinewidth": 0,
              "ticks": ""
             }
            },
            "type": "scatterpolargl"
           }
          ],
          "scatterternary": [
           {
            "marker": {
             "colorbar": {
              "outlinewidth": 0,
              "ticks": ""
             }
            },
            "type": "scatterternary"
           }
          ],
          "surface": [
           {
            "colorbar": {
             "outlinewidth": 0,
             "ticks": ""
            },
            "colorscale": [
             [
              0,
              "#0d0887"
             ],
             [
              0.1111111111111111,
              "#46039f"
             ],
             [
              0.2222222222222222,
              "#7201a8"
             ],
             [
              0.3333333333333333,
              "#9c179e"
             ],
             [
              0.4444444444444444,
              "#bd3786"
             ],
             [
              0.5555555555555556,
              "#d8576b"
             ],
             [
              0.6666666666666666,
              "#ed7953"
             ],
             [
              0.7777777777777778,
              "#fb9f3a"
             ],
             [
              0.8888888888888888,
              "#fdca26"
             ],
             [
              1,
              "#f0f921"
             ]
            ],
            "type": "surface"
           }
          ],
          "table": [
           {
            "cells": {
             "fill": {
              "color": "#EBF0F8"
             },
             "line": {
              "color": "white"
             }
            },
            "header": {
             "fill": {
              "color": "#C8D4E3"
             },
             "line": {
              "color": "white"
             }
            },
            "type": "table"
           }
          ]
         },
         "layout": {
          "annotationdefaults": {
           "arrowcolor": "#2a3f5f",
           "arrowhead": 0,
           "arrowwidth": 1
          },
          "coloraxis": {
           "colorbar": {
            "outlinewidth": 0,
            "ticks": ""
           }
          },
          "colorscale": {
           "diverging": [
            [
             0,
             "#8e0152"
            ],
            [
             0.1,
             "#c51b7d"
            ],
            [
             0.2,
             "#de77ae"
            ],
            [
             0.3,
             "#f1b6da"
            ],
            [
             0.4,
             "#fde0ef"
            ],
            [
             0.5,
             "#f7f7f7"
            ],
            [
             0.6,
             "#e6f5d0"
            ],
            [
             0.7,
             "#b8e186"
            ],
            [
             0.8,
             "#7fbc41"
            ],
            [
             0.9,
             "#4d9221"
            ],
            [
             1,
             "#276419"
            ]
           ],
           "sequential": [
            [
             0,
             "#0d0887"
            ],
            [
             0.1111111111111111,
             "#46039f"
            ],
            [
             0.2222222222222222,
             "#7201a8"
            ],
            [
             0.3333333333333333,
             "#9c179e"
            ],
            [
             0.4444444444444444,
             "#bd3786"
            ],
            [
             0.5555555555555556,
             "#d8576b"
            ],
            [
             0.6666666666666666,
             "#ed7953"
            ],
            [
             0.7777777777777778,
             "#fb9f3a"
            ],
            [
             0.8888888888888888,
             "#fdca26"
            ],
            [
             1,
             "#f0f921"
            ]
           ],
           "sequentialminus": [
            [
             0,
             "#0d0887"
            ],
            [
             0.1111111111111111,
             "#46039f"
            ],
            [
             0.2222222222222222,
             "#7201a8"
            ],
            [
             0.3333333333333333,
             "#9c179e"
            ],
            [
             0.4444444444444444,
             "#bd3786"
            ],
            [
             0.5555555555555556,
             "#d8576b"
            ],
            [
             0.6666666666666666,
             "#ed7953"
            ],
            [
             0.7777777777777778,
             "#fb9f3a"
            ],
            [
             0.8888888888888888,
             "#fdca26"
            ],
            [
             1,
             "#f0f921"
            ]
           ]
          },
          "colorway": [
           "#636efa",
           "#EF553B",
           "#00cc96",
           "#ab63fa",
           "#FFA15A",
           "#19d3f3",
           "#FF6692",
           "#B6E880",
           "#FF97FF",
           "#FECB52"
          ],
          "font": {
           "color": "#2a3f5f"
          },
          "geo": {
           "bgcolor": "white",
           "lakecolor": "white",
           "landcolor": "#E5ECF6",
           "showlakes": true,
           "showland": true,
           "subunitcolor": "white"
          },
          "hoverlabel": {
           "align": "left"
          },
          "hovermode": "closest",
          "mapbox": {
           "style": "light"
          },
          "paper_bgcolor": "white",
          "plot_bgcolor": "#E5ECF6",
          "polar": {
           "angularaxis": {
            "gridcolor": "white",
            "linecolor": "white",
            "ticks": ""
           },
           "bgcolor": "#E5ECF6",
           "radialaxis": {
            "gridcolor": "white",
            "linecolor": "white",
            "ticks": ""
           }
          },
          "scene": {
           "xaxis": {
            "backgroundcolor": "#E5ECF6",
            "gridcolor": "white",
            "gridwidth": 2,
            "linecolor": "white",
            "showbackground": true,
            "ticks": "",
            "zerolinecolor": "white"
           },
           "yaxis": {
            "backgroundcolor": "#E5ECF6",
            "gridcolor": "white",
            "gridwidth": 2,
            "linecolor": "white",
            "showbackground": true,
            "ticks": "",
            "zerolinecolor": "white"
           },
           "zaxis": {
            "backgroundcolor": "#E5ECF6",
            "gridcolor": "white",
            "gridwidth": 2,
            "linecolor": "white",
            "showbackground": true,
            "ticks": "",
            "zerolinecolor": "white"
           }
          },
          "shapedefaults": {
           "line": {
            "color": "#2a3f5f"
           }
          },
          "ternary": {
           "aaxis": {
            "gridcolor": "white",
            "linecolor": "white",
            "ticks": ""
           },
           "baxis": {
            "gridcolor": "white",
            "linecolor": "white",
            "ticks": ""
           },
           "bgcolor": "#E5ECF6",
           "caxis": {
            "gridcolor": "white",
            "linecolor": "white",
            "ticks": ""
           }
          },
          "title": {
           "x": 0.05
          },
          "xaxis": {
           "automargin": true,
           "gridcolor": "white",
           "linecolor": "white",
           "ticks": "",
           "title": {
            "standoff": 15
           },
           "zerolinecolor": "white",
           "zerolinewidth": 2
          },
          "yaxis": {
           "automargin": true,
           "gridcolor": "white",
           "linecolor": "white",
           "ticks": "",
           "title": {
            "standoff": 15
           },
           "zerolinecolor": "white",
           "zerolinewidth": 2
          }
         }
        },
        "title": {
         "font": {
          "color": "#4D5663"
         },
         "text": "Yearwise Variation in Apparent Temperature (C) and Humidity for the Month of April"
        },
        "xaxis": {
         "gridcolor": "#E1E5ED",
         "showgrid": true,
         "tickfont": {
          "color": "#4D5663"
         },
         "title": {
          "font": {
           "color": "#4D5663"
          },
          "text": "Month of April"
         },
         "zerolinecolor": "#E1E5ED"
        },
        "yaxis": {
         "gridcolor": "#E1E5ED",
         "showgrid": true,
         "tickfont": {
          "color": "#4D5663"
         },
         "title": {
          "font": {
           "color": "#4D5663"
          },
          "text": ""
         },
         "zerolinecolor": "#E1E5ED"
        }
       }
      },
      "text/html": [
       "<div>\n",
       "        \n",
       "        \n",
       "            <div id=\"64303010-6d79-450e-ad02-19f9f9548ce5\" class=\"plotly-graph-div\" style=\"height:525px; width:100%;\"></div>\n",
       "            <script type=\"text/javascript\">\n",
       "                require([\"plotly\"], function(Plotly) {\n",
       "                    window.PLOTLYENV=window.PLOTLYENV || {};\n",
       "                    window.PLOTLYENV.BASE_URL='https://plot.ly';\n",
       "                    \n",
       "                if (document.getElementById(\"64303010-6d79-450e-ad02-19f9f9548ce5\")) {\n",
       "                    Plotly.newPlot(\n",
       "                        '64303010-6d79-450e-ad02-19f9f9548ce5',\n",
       "                        [{\"line\": {\"color\": \"rgba(255, 153, 51, 1.0)\", \"dash\": \"solid\", \"shape\": \"linear\", \"width\": 1.3}, \"mode\": \"lines\", \"name\": \"Apparent Temperature (C)\", \"text\": \"\", \"type\": \"scatter\", \"x\": [\"2006-04-01 00:00:00+00:00\", \"2007-04-01 00:00:00+00:00\", \"2008-04-01 00:00:00+00:00\", \"2009-04-01 00:00:00+00:00\", \"2010-04-01 00:00:00+00:00\", \"2011-04-01 00:00:00+00:00\", \"2012-04-01 00:00:00+00:00\", \"2013-04-01 00:00:00+00:00\", \"2014-04-01 00:00:00+00:00\", \"2015-04-01 00:00:00+00:00\", \"2016-04-01 00:00:00+00:00\"], \"y\": [12.098827160601392, 11.894421296402783, 11.183688271579156, 14.26707561731947, 11.639405864208328, 12.97899691359584, 11.782770061750009, 12.045563271715274, 12.486180555419452, 10.632800925994447, 12.731427469113884]}, {\"line\": {\"color\": \"rgba(55, 128, 191, 1.0)\", \"dash\": \"solid\", \"shape\": \"linear\", \"width\": 1.3}, \"mode\": \"lines\", \"name\": \"Humidity\", \"text\": \"\", \"type\": \"scatter\", \"x\": [\"2006-04-01 00:00:00+00:00\", \"2007-04-01 00:00:00+00:00\", \"2008-04-01 00:00:00+00:00\", \"2009-04-01 00:00:00+00:00\", \"2010-04-01 00:00:00+00:00\", \"2011-04-01 00:00:00+00:00\", \"2012-04-01 00:00:00+00:00\", \"2013-04-01 00:00:00+00:00\", \"2014-04-01 00:00:00+00:00\", \"2015-04-01 00:00:00+00:00\", \"2016-04-01 00:00:00+00:00\"], \"y\": [0.7286249999999997, 0.5363611111111108, 0.6931944444444447, 0.5678472222222216, 0.7068750000000003, 0.5916249999999998, 0.6502222222222221, 0.6776666666666661, 0.6914027777777771, 0.5477638888888885, 0.6599722222222224]}],\n",
       "                        {\"legend\": {\"bgcolor\": \"#F5F6F9\", \"font\": {\"color\": \"#4D5663\"}}, \"paper_bgcolor\": \"#F5F6F9\", \"plot_bgcolor\": \"#F5F6F9\", \"template\": {\"data\": {\"bar\": [{\"error_x\": {\"color\": \"#2a3f5f\"}, \"error_y\": {\"color\": \"#2a3f5f\"}, \"marker\": {\"line\": {\"color\": \"#E5ECF6\", \"width\": 0.5}}, \"type\": \"bar\"}], \"barpolar\": [{\"marker\": {\"line\": {\"color\": \"#E5ECF6\", \"width\": 0.5}}, \"type\": \"barpolar\"}], \"carpet\": [{\"aaxis\": {\"endlinecolor\": \"#2a3f5f\", \"gridcolor\": \"white\", \"linecolor\": \"white\", \"minorgridcolor\": \"white\", \"startlinecolor\": \"#2a3f5f\"}, \"baxis\": {\"endlinecolor\": \"#2a3f5f\", \"gridcolor\": \"white\", \"linecolor\": \"white\", \"minorgridcolor\": \"white\", \"startlinecolor\": \"#2a3f5f\"}, \"type\": \"carpet\"}], \"choropleth\": [{\"colorbar\": {\"outlinewidth\": 0, \"ticks\": \"\"}, \"type\": \"choropleth\"}], \"contour\": [{\"colorbar\": {\"outlinewidth\": 0, \"ticks\": \"\"}, \"colorscale\": [[0.0, \"#0d0887\"], [0.1111111111111111, \"#46039f\"], [0.2222222222222222, \"#7201a8\"], [0.3333333333333333, \"#9c179e\"], [0.4444444444444444, \"#bd3786\"], [0.5555555555555556, \"#d8576b\"], [0.6666666666666666, \"#ed7953\"], [0.7777777777777778, \"#fb9f3a\"], [0.8888888888888888, \"#fdca26\"], [1.0, \"#f0f921\"]], \"type\": \"contour\"}], \"contourcarpet\": [{\"colorbar\": {\"outlinewidth\": 0, \"ticks\": \"\"}, \"type\": \"contourcarpet\"}], \"heatmap\": [{\"colorbar\": {\"outlinewidth\": 0, \"ticks\": \"\"}, \"colorscale\": [[0.0, \"#0d0887\"], [0.1111111111111111, \"#46039f\"], [0.2222222222222222, \"#7201a8\"], [0.3333333333333333, \"#9c179e\"], [0.4444444444444444, \"#bd3786\"], [0.5555555555555556, \"#d8576b\"], [0.6666666666666666, \"#ed7953\"], [0.7777777777777778, \"#fb9f3a\"], [0.8888888888888888, \"#fdca26\"], [1.0, \"#f0f921\"]], \"type\": \"heatmap\"}], \"heatmapgl\": [{\"colorbar\": {\"outlinewidth\": 0, \"ticks\": \"\"}, \"colorscale\": [[0.0, \"#0d0887\"], [0.1111111111111111, \"#46039f\"], [0.2222222222222222, \"#7201a8\"], [0.3333333333333333, \"#9c179e\"], [0.4444444444444444, \"#bd3786\"], [0.5555555555555556, \"#d8576b\"], [0.6666666666666666, \"#ed7953\"], [0.7777777777777778, \"#fb9f3a\"], [0.8888888888888888, \"#fdca26\"], [1.0, \"#f0f921\"]], \"type\": \"heatmapgl\"}], \"histogram\": [{\"marker\": {\"colorbar\": {\"outlinewidth\": 0, \"ticks\": \"\"}}, \"type\": \"histogram\"}], \"histogram2d\": [{\"colorbar\": {\"outlinewidth\": 0, \"ticks\": \"\"}, \"colorscale\": [[0.0, \"#0d0887\"], [0.1111111111111111, \"#46039f\"], [0.2222222222222222, \"#7201a8\"], [0.3333333333333333, \"#9c179e\"], [0.4444444444444444, \"#bd3786\"], [0.5555555555555556, \"#d8576b\"], [0.6666666666666666, \"#ed7953\"], [0.7777777777777778, \"#fb9f3a\"], [0.8888888888888888, \"#fdca26\"], [1.0, \"#f0f921\"]], \"type\": \"histogram2d\"}], \"histogram2dcontour\": [{\"colorbar\": {\"outlinewidth\": 0, \"ticks\": \"\"}, \"colorscale\": [[0.0, \"#0d0887\"], [0.1111111111111111, \"#46039f\"], [0.2222222222222222, \"#7201a8\"], [0.3333333333333333, \"#9c179e\"], [0.4444444444444444, \"#bd3786\"], [0.5555555555555556, \"#d8576b\"], [0.6666666666666666, \"#ed7953\"], [0.7777777777777778, \"#fb9f3a\"], [0.8888888888888888, \"#fdca26\"], [1.0, \"#f0f921\"]], \"type\": \"histogram2dcontour\"}], \"mesh3d\": [{\"colorbar\": {\"outlinewidth\": 0, \"ticks\": \"\"}, \"type\": \"mesh3d\"}], \"parcoords\": [{\"line\": {\"colorbar\": {\"outlinewidth\": 0, \"ticks\": \"\"}}, \"type\": \"parcoords\"}], \"pie\": [{\"automargin\": true, \"type\": \"pie\"}], \"scatter\": [{\"marker\": {\"colorbar\": {\"outlinewidth\": 0, \"ticks\": \"\"}}, \"type\": \"scatter\"}], \"scatter3d\": [{\"line\": {\"colorbar\": {\"outlinewidth\": 0, \"ticks\": \"\"}}, \"marker\": {\"colorbar\": {\"outlinewidth\": 0, \"ticks\": \"\"}}, \"type\": \"scatter3d\"}], \"scattercarpet\": [{\"marker\": {\"colorbar\": {\"outlinewidth\": 0, \"ticks\": \"\"}}, \"type\": \"scattercarpet\"}], \"scattergeo\": [{\"marker\": {\"colorbar\": {\"outlinewidth\": 0, \"ticks\": \"\"}}, \"type\": \"scattergeo\"}], \"scattergl\": [{\"marker\": {\"colorbar\": {\"outlinewidth\": 0, \"ticks\": \"\"}}, \"type\": \"scattergl\"}], \"scattermapbox\": [{\"marker\": {\"colorbar\": {\"outlinewidth\": 0, \"ticks\": \"\"}}, \"type\": \"scattermapbox\"}], \"scatterpolar\": [{\"marker\": {\"colorbar\": {\"outlinewidth\": 0, \"ticks\": \"\"}}, \"type\": \"scatterpolar\"}], \"scatterpolargl\": [{\"marker\": {\"colorbar\": {\"outlinewidth\": 0, \"ticks\": \"\"}}, \"type\": \"scatterpolargl\"}], \"scatterternary\": [{\"marker\": {\"colorbar\": {\"outlinewidth\": 0, \"ticks\": \"\"}}, \"type\": \"scatterternary\"}], \"surface\": [{\"colorbar\": {\"outlinewidth\": 0, \"ticks\": \"\"}, \"colorscale\": [[0.0, \"#0d0887\"], [0.1111111111111111, \"#46039f\"], [0.2222222222222222, \"#7201a8\"], [0.3333333333333333, \"#9c179e\"], [0.4444444444444444, \"#bd3786\"], [0.5555555555555556, \"#d8576b\"], [0.6666666666666666, \"#ed7953\"], [0.7777777777777778, \"#fb9f3a\"], [0.8888888888888888, \"#fdca26\"], [1.0, \"#f0f921\"]], \"type\": \"surface\"}], \"table\": [{\"cells\": {\"fill\": {\"color\": \"#EBF0F8\"}, \"line\": {\"color\": \"white\"}}, \"header\": {\"fill\": {\"color\": \"#C8D4E3\"}, \"line\": {\"color\": \"white\"}}, \"type\": \"table\"}]}, \"layout\": {\"annotationdefaults\": {\"arrowcolor\": \"#2a3f5f\", \"arrowhead\": 0, \"arrowwidth\": 1}, \"coloraxis\": {\"colorbar\": {\"outlinewidth\": 0, \"ticks\": \"\"}}, \"colorscale\": {\"diverging\": [[0, \"#8e0152\"], [0.1, \"#c51b7d\"], [0.2, \"#de77ae\"], [0.3, \"#f1b6da\"], [0.4, \"#fde0ef\"], [0.5, \"#f7f7f7\"], [0.6, \"#e6f5d0\"], [0.7, \"#b8e186\"], [0.8, \"#7fbc41\"], [0.9, \"#4d9221\"], [1, \"#276419\"]], \"sequential\": [[0.0, \"#0d0887\"], [0.1111111111111111, \"#46039f\"], [0.2222222222222222, \"#7201a8\"], [0.3333333333333333, \"#9c179e\"], [0.4444444444444444, \"#bd3786\"], [0.5555555555555556, \"#d8576b\"], [0.6666666666666666, \"#ed7953\"], [0.7777777777777778, \"#fb9f3a\"], [0.8888888888888888, \"#fdca26\"], [1.0, \"#f0f921\"]], \"sequentialminus\": [[0.0, \"#0d0887\"], [0.1111111111111111, \"#46039f\"], [0.2222222222222222, \"#7201a8\"], [0.3333333333333333, \"#9c179e\"], [0.4444444444444444, \"#bd3786\"], [0.5555555555555556, \"#d8576b\"], [0.6666666666666666, \"#ed7953\"], [0.7777777777777778, \"#fb9f3a\"], [0.8888888888888888, \"#fdca26\"], [1.0, \"#f0f921\"]]}, \"colorway\": [\"#636efa\", \"#EF553B\", \"#00cc96\", \"#ab63fa\", \"#FFA15A\", \"#19d3f3\", \"#FF6692\", \"#B6E880\", \"#FF97FF\", \"#FECB52\"], \"font\": {\"color\": \"#2a3f5f\"}, \"geo\": {\"bgcolor\": \"white\", \"lakecolor\": \"white\", \"landcolor\": \"#E5ECF6\", \"showlakes\": true, \"showland\": true, \"subunitcolor\": \"white\"}, \"hoverlabel\": {\"align\": \"left\"}, \"hovermode\": \"closest\", \"mapbox\": {\"style\": \"light\"}, \"paper_bgcolor\": \"white\", \"plot_bgcolor\": \"#E5ECF6\", \"polar\": {\"angularaxis\": {\"gridcolor\": \"white\", \"linecolor\": \"white\", \"ticks\": \"\"}, \"bgcolor\": \"#E5ECF6\", \"radialaxis\": {\"gridcolor\": \"white\", \"linecolor\": \"white\", \"ticks\": \"\"}}, \"scene\": {\"xaxis\": {\"backgroundcolor\": \"#E5ECF6\", \"gridcolor\": \"white\", \"gridwidth\": 2, \"linecolor\": \"white\", \"showbackground\": true, \"ticks\": \"\", \"zerolinecolor\": \"white\"}, \"yaxis\": {\"backgroundcolor\": \"#E5ECF6\", \"gridcolor\": \"white\", \"gridwidth\": 2, \"linecolor\": \"white\", \"showbackground\": true, \"ticks\": \"\", \"zerolinecolor\": \"white\"}, \"zaxis\": {\"backgroundcolor\": \"#E5ECF6\", \"gridcolor\": \"white\", \"gridwidth\": 2, \"linecolor\": \"white\", \"showbackground\": true, \"ticks\": \"\", \"zerolinecolor\": \"white\"}}, \"shapedefaults\": {\"line\": {\"color\": \"#2a3f5f\"}}, \"ternary\": {\"aaxis\": {\"gridcolor\": \"white\", \"linecolor\": \"white\", \"ticks\": \"\"}, \"baxis\": {\"gridcolor\": \"white\", \"linecolor\": \"white\", \"ticks\": \"\"}, \"bgcolor\": \"#E5ECF6\", \"caxis\": {\"gridcolor\": \"white\", \"linecolor\": \"white\", \"ticks\": \"\"}}, \"title\": {\"x\": 0.05}, \"xaxis\": {\"automargin\": true, \"gridcolor\": \"white\", \"linecolor\": \"white\", \"ticks\": \"\", \"title\": {\"standoff\": 15}, \"zerolinecolor\": \"white\", \"zerolinewidth\": 2}, \"yaxis\": {\"automargin\": true, \"gridcolor\": \"white\", \"linecolor\": \"white\", \"ticks\": \"\", \"title\": {\"standoff\": 15}, \"zerolinecolor\": \"white\", \"zerolinewidth\": 2}}}, \"title\": {\"font\": {\"color\": \"#4D5663\"}, \"text\": \"Yearwise Variation in Apparent Temperature (C) and Humidity for the Month of April\"}, \"xaxis\": {\"gridcolor\": \"#E1E5ED\", \"showgrid\": true, \"tickfont\": {\"color\": \"#4D5663\"}, \"title\": {\"font\": {\"color\": \"#4D5663\"}, \"text\": \"Month of April\"}, \"zerolinecolor\": \"#E1E5ED\"}, \"yaxis\": {\"gridcolor\": \"#E1E5ED\", \"showgrid\": true, \"tickfont\": {\"color\": \"#4D5663\"}, \"title\": {\"font\": {\"color\": \"#4D5663\"}, \"text\": \"\"}, \"zerolinecolor\": \"#E1E5ED\"}},\n",
       "                        {\"showLink\": true, \"linkText\": \"Export to plot.ly\", \"plotlyServerURL\": \"https://plot.ly\", \"responsive\": true}\n",
       "                    ).then(function(){\n",
       "                            \n",
       "var gd = document.getElementById('64303010-6d79-450e-ad02-19f9f9548ce5');\n",
       "var x = new MutationObserver(function (mutations, observer) {{\n",
       "        var display = window.getComputedStyle(gd).display;\n",
       "        if (!display || display === 'none') {{\n",
       "            console.log([gd, 'removed!']);\n",
       "            Plotly.purge(gd);\n",
       "            observer.disconnect();\n",
       "        }}\n",
       "}});\n",
       "\n",
       "// Listen for the removal of the full notebook cells\n",
       "var notebookContainer = gd.closest('#notebook-container');\n",
       "if (notebookContainer) {{\n",
       "    x.observe(notebookContainer, {childList: true});\n",
       "}}\n",
       "\n",
       "// Listen for the clearing of the current output cell\n",
       "var outputEl = gd.closest('.output');\n",
       "if (outputEl) {{\n",
       "    x.observe(outputEl, {childList: true});\n",
       "}}\n",
       "\n",
       "                        })\n",
       "                };\n",
       "                });\n",
       "            </script>\n",
       "        </div>"
      ]
     },
     "metadata": {},
     "output_type": "display_data"
    }
   ],
   "source": [
    "data.iplot(xTitle = 'Month of April',\n",
    "           title  ='Yearwise Variation in Apparent Temperature (C) and Humidity for the Month of April')"
   ]
  },
  {
   "cell_type": "markdown",
   "metadata": {},
   "source": [
    "## Final Conclusion : - \n",
    "1. Average Apparent Temperature increase for year 2008-09 and then again decrease from 2009-10 to its average level. Then slighlty increase for period 2010-11 and then drop again for year 2011-12. For year 2014-15 it decrease drastically and then come to average level for year 2015-16. \n",
    "2. It observed, for year 2009 the Apprent Temperature is at Highest 14.26°C and for year 2015 the Apprent Temperature is at lowest 10.63°C. \n",
    "3. There is no any change in average Humidity for given year 2006-2016. The humidity graph line is approximately parallel to the X-axis.  "
   ]
  }
 ],
 "metadata": {
  "kernelspec": {
   "display_name": "Python 3",
   "language": "python",
   "name": "python3"
  },
  "language_info": {
   "codemirror_mode": {
    "name": "ipython",
    "version": 3
   },
   "file_extension": ".py",
   "mimetype": "text/x-python",
   "name": "python",
   "nbconvert_exporter": "python",
   "pygments_lexer": "ipython3",
   "version": "3.7.6"
  }
 },
 "nbformat": 4,
 "nbformat_minor": 4
}
